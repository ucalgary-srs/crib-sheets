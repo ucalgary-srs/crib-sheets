{
 "cells": [
  {
   "cell_type": "markdown",
   "id": "5f7ef32b",
   "metadata": {},
   "source": [
    "**CRIB SHEET RULES OF THE ROAD:**\n",
    "\n",
    "This crib sheet is provided to support access, utilization, and plotting of UCalgary optical datasets. It is intended as a base set of code that a user may edit and manipulate to serve their own needs.  Crib sheets contains UCalgary verified and validated procedures for plotting and manipulating UCalgary ASI data for common use cases.  Use of this crib sheet does not require acknowledgment, it is freely distributed for scientific use. Please also remember to perform due diligence on all data use.  We recommend comparison with verified data products on [data.phys.ucalgary.ca](https://data.phys.ucalgary.ca) to ensure that any user output does not contradict operational summary plots.  Data use must be acknowledged according to the information available for each data set - please see [data.phys.ucalgary.ca](https://data.phys.ucalgary.ca).  If you encounter any issues with the data or the crib sheet, please contact the UCalgary team for support (Emma Spanswick, elspansw@ucalgary.ca). Copyright © University of Calgary."
   ]
  },
  {
   "cell_type": "markdown",
   "id": "ded55fbe-326e-4964-aadc-dd4ea9af3db9",
   "metadata": {},
   "source": [
    "# Download and read ASI raw data using PyAuroraX"
   ]
  },
  {
   "cell_type": "markdown",
   "id": "35209183-611f-4f6c-8771-45744678fbbd",
   "metadata": {},
   "source": [
    "Data can be downloaded from the UCalgary Space Remote Sensing Open Data Platform using the one of the following methods:\n",
    "  - PyAuroraX (for all-sky imager data only) <-- we'll explore this method in this crib sheet \n",
    "  - FTP (ftp://data.phys.ucalgary.ca)\n",
    "  - Rsync (rsync://data.phys.ucalgary.ca)\n",
    "  - HTTP via browser (https://data.phys.ucalgary.ca). \n",
    "  - Directly using the API (https://api.phys.ucalgary.ca)\n",
    "\n",
    "Please note that the API is currently under development and we will do our best to keep this crib sheet up-to-date with the latest changes. If you have any questions, please reach out to the UCalgary Team (Emma Spanswick, elspansw@ucalgary.ca).\n",
    "\n",
    "Below, we'll go through how to download and read data using PyAuroraX, the recommended library for working with All-Sky Imager (ASI) data that we provide."
   ]
  },
  {
   "cell_type": "markdown",
   "id": "3690a92b-4c77-4f46-98d1-f760b064b42b",
   "metadata": {},
   "source": [
    "## Install dependencies\n",
    "\n",
    "Here we'll install [PyAuroraX](https://github.com/aurorax-space/pyaurorax), and import it.\n",
    "\n",
    "Some helpful links:\n",
    "  - [PyAuroraX documentation](https://docs.aurorax.space/code/overview)\n",
    "  - [PyAuroraX API Reference](https://docs.aurorax.space/code/pyaurorax_api_reference/pyaurorax)\n",
    "  - [Jupyter notebook examples](https://github.com/aurorax-space/pyaurorax/tree/main/examples/notebooks)"
   ]
  },
  {
   "cell_type": "code",
   "execution_count": 1,
   "id": "e2a0f526",
   "metadata": {},
   "outputs": [
    {
     "name": "stdout",
     "output_type": "stream",
     "text": [
      "Requirement already satisfied: pyaurorax in /home/darrenc/miniconda3/envs/crib-sheets311/lib/python3.11/site-packages (1.0.0rc1)\n",
      "Requirement already satisfied: aacgmv2<3.0.0,>=2.6.2 in /home/darrenc/miniconda3/envs/crib-sheets311/lib/python3.11/site-packages (from pyaurorax) (2.6.3)\n",
      "Requirement already satisfied: cartopy<0.24.0,>=0.23.0 in /home/darrenc/miniconda3/envs/crib-sheets311/lib/python3.11/site-packages (from pyaurorax) (0.23.0)\n",
      "Requirement already satisfied: click<9.0.0,>=8.1.3 in /home/darrenc/miniconda3/envs/crib-sheets311/lib/python3.11/site-packages (from pyaurorax) (8.1.7)\n",
      "Requirement already satisfied: humanize<5.0.0,>=4.4.0 in /home/darrenc/miniconda3/envs/crib-sheets311/lib/python3.11/site-packages (from pyaurorax) (4.9.0)\n",
      "Requirement already satisfied: matplotlib<4.0.0,>=3.9.0 in /home/darrenc/miniconda3/envs/crib-sheets311/lib/python3.11/site-packages (from pyaurorax) (3.9.0)\n",
      "Requirement already satisfied: numpy<2.0.0,>=1.26.4 in /home/darrenc/miniconda3/envs/crib-sheets311/lib/python3.11/site-packages (from pyaurorax) (1.26.4)\n",
      "Requirement already satisfied: pyproj<4.0.0,>=3.6.1 in /home/darrenc/miniconda3/envs/crib-sheets311/lib/python3.11/site-packages (from pyaurorax) (3.6.1)\n",
      "Requirement already satisfied: python-dateutil<3.0.0,>=2.8.2 in /home/darrenc/miniconda3/envs/crib-sheets311/lib/python3.11/site-packages (from pyaurorax) (2.9.0.post0)\n",
      "Requirement already satisfied: pyucalgarysrs<2.0.0,>=1.0.0 in /home/darrenc/miniconda3/envs/crib-sheets311/lib/python3.11/site-packages (from pyaurorax) (1.0.4)\n",
      "Requirement already satisfied: requests<3.0.0,>=2.28.1 in /home/darrenc/miniconda3/envs/crib-sheets311/lib/python3.11/site-packages (from pyaurorax) (2.32.3)\n",
      "Requirement already satisfied: termcolor<3.0.0,>=2.0.1 in /home/darrenc/miniconda3/envs/crib-sheets311/lib/python3.11/site-packages (from pyaurorax) (2.4.0)\n",
      "Requirement already satisfied: texttable<2.0.0,>=1.6.4 in /home/darrenc/miniconda3/envs/crib-sheets311/lib/python3.11/site-packages (from pyaurorax) (1.7.0)\n",
      "Requirement already satisfied: shapely>=1.7 in /home/darrenc/miniconda3/envs/crib-sheets311/lib/python3.11/site-packages (from cartopy<0.24.0,>=0.23.0->pyaurorax) (2.0.4)\n",
      "Requirement already satisfied: packaging>=20 in /home/darrenc/miniconda3/envs/crib-sheets311/lib/python3.11/site-packages (from cartopy<0.24.0,>=0.23.0->pyaurorax) (24.1)\n",
      "Requirement already satisfied: pyshp>=2.3 in /home/darrenc/miniconda3/envs/crib-sheets311/lib/python3.11/site-packages (from cartopy<0.24.0,>=0.23.0->pyaurorax) (2.3.1)\n",
      "Requirement already satisfied: contourpy>=1.0.1 in /home/darrenc/miniconda3/envs/crib-sheets311/lib/python3.11/site-packages (from matplotlib<4.0.0,>=3.9.0->pyaurorax) (1.2.1)\n",
      "Requirement already satisfied: cycler>=0.10 in /home/darrenc/miniconda3/envs/crib-sheets311/lib/python3.11/site-packages (from matplotlib<4.0.0,>=3.9.0->pyaurorax) (0.12.1)\n",
      "Requirement already satisfied: fonttools>=4.22.0 in /home/darrenc/miniconda3/envs/crib-sheets311/lib/python3.11/site-packages (from matplotlib<4.0.0,>=3.9.0->pyaurorax) (4.53.0)\n",
      "Requirement already satisfied: kiwisolver>=1.3.1 in /home/darrenc/miniconda3/envs/crib-sheets311/lib/python3.11/site-packages (from matplotlib<4.0.0,>=3.9.0->pyaurorax) (1.4.5)\n",
      "Requirement already satisfied: pillow>=8 in /home/darrenc/miniconda3/envs/crib-sheets311/lib/python3.11/site-packages (from matplotlib<4.0.0,>=3.9.0->pyaurorax) (10.3.0)\n",
      "Requirement already satisfied: pyparsing>=2.3.1 in /home/darrenc/miniconda3/envs/crib-sheets311/lib/python3.11/site-packages (from matplotlib<4.0.0,>=3.9.0->pyaurorax) (3.1.2)\n",
      "Requirement already satisfied: certifi in /home/darrenc/miniconda3/envs/crib-sheets311/lib/python3.11/site-packages (from pyproj<4.0.0,>=3.6.1->pyaurorax) (2024.6.2)\n",
      "Requirement already satisfied: six>=1.5 in /home/darrenc/miniconda3/envs/crib-sheets311/lib/python3.11/site-packages (from python-dateutil<3.0.0,>=2.8.2->pyaurorax) (1.16.0)\n",
      "Requirement already satisfied: h5py<4.0.0,>=3.1.0 in /home/darrenc/miniconda3/envs/crib-sheets311/lib/python3.11/site-packages (from pyucalgarysrs<2.0.0,>=1.0.0->pyaurorax) (3.11.0)\n",
      "Requirement already satisfied: joblib<2.0.0,>=1.0.0 in /home/darrenc/miniconda3/envs/crib-sheets311/lib/python3.11/site-packages (from pyucalgarysrs<2.0.0,>=1.0.0->pyaurorax) (1.4.2)\n",
      "Requirement already satisfied: opencv-python<5.0.0,>=4.4.0 in /home/darrenc/miniconda3/envs/crib-sheets311/lib/python3.11/site-packages (from pyucalgarysrs<2.0.0,>=1.0.0->pyaurorax) (4.10.0.84)\n",
      "Requirement already satisfied: scipy<2.0.0,>=1.6.0 in /home/darrenc/miniconda3/envs/crib-sheets311/lib/python3.11/site-packages (from pyucalgarysrs<2.0.0,>=1.0.0->pyaurorax) (1.13.1)\n",
      "Requirement already satisfied: tqdm<5.0.0,>=4.61.2 in /home/darrenc/miniconda3/envs/crib-sheets311/lib/python3.11/site-packages (from pyucalgarysrs<2.0.0,>=1.0.0->pyaurorax) (4.66.4)\n",
      "Requirement already satisfied: charset-normalizer<4,>=2 in /home/darrenc/miniconda3/envs/crib-sheets311/lib/python3.11/site-packages (from requests<3.0.0,>=2.28.1->pyaurorax) (3.3.2)\n",
      "Requirement already satisfied: idna<4,>=2.5 in /home/darrenc/miniconda3/envs/crib-sheets311/lib/python3.11/site-packages (from requests<3.0.0,>=2.28.1->pyaurorax) (3.7)\n",
      "Requirement already satisfied: urllib3<3,>=1.21.1 in /home/darrenc/miniconda3/envs/crib-sheets311/lib/python3.11/site-packages (from requests<3.0.0,>=2.28.1->pyaurorax) (2.2.2)\n"
     ]
    }
   ],
   "source": [
    "# install pyaurorax\n",
    "!pip install pyaurorax"
   ]
  },
  {
   "cell_type": "code",
   "execution_count": 2,
   "id": "55027f86-b09b-445f-b3c8-345c17a1e5c6",
   "metadata": {},
   "outputs": [],
   "source": [
    "import pprint\n",
    "import datetime\n",
    "import pyaurorax\n",
    "\n",
    "aurorax = pyaurorax.PyAuroraX()"
   ]
  },
  {
   "cell_type": "markdown",
   "id": "28282e83",
   "metadata": {},
   "source": [
    "## Explore datasets"
   ]
  },
  {
   "cell_type": "markdown",
   "id": "72042df5",
   "metadata": {},
   "source": [
    "All data available are organized by unique 'dataset' identifier strings, for example, 'THEMIS_ASI_RAW'. There are a few functions available for exploring and finding more information about the datasets. Let's take a look at these."
   ]
  },
  {
   "cell_type": "code",
   "execution_count": 3,
   "id": "e8aaae17",
   "metadata": {},
   "outputs": [
    {
     "name": "stdout",
     "output_type": "stream",
     "text": [
      "Name                                     Provider   Level   DOI Details                                               Short Description                                                         \n",
      "================================================================================================================================================================================================\n",
      "REGO_CALIBRATION_FLATFIELD_IDLSAV        UCalgary   L3      https://commons.datacite.org/doi.org/10.11575/z7x6-5c42   REGO All Sky Imagers Flatfield calibration data (IDL save format)         \n",
      "REGO_CALIBRATION_RAYLEIGHS_IDLSAV        UCalgary   L3      https://commons.datacite.org/doi.org/10.11575/z7x6-5c42   REGO All Sky Imagers Rayleighs calibration data (IDL save format)         \n",
      "REGO_DAILY_KEOGRAM_JPG                   UCalgary   L2      https://commons.datacite.org/doi.org/10.11575/z7x6-5c42   REGO All Sky Imagers daily keogram summary product (JPG format)           \n",
      "REGO_DAILY_KEOGRAM_PGM                   UCalgary   L2      https://commons.datacite.org/doi.org/10.11575/z7x6-5c42   REGO All Sky Imagers daily keogram summary product (PGM format)           \n",
      "REGO_DAILY_KEOGRAM_PNG                   UCalgary   L2      https://commons.datacite.org/doi.org/10.11575/z7x6-5c42   REGO All Sky Imagers daily keogram summary product (PNG format)           \n",
      "REGO_DAILY_MONTAGE_JPG                   UCalgary   L2      https://commons.datacite.org/doi.org/10.11575/z7x6-5c42   REGO All Sky Imagers daily montage summary product (JPG format)           \n",
      "REGO_DAILY_MONTAGE_PGM                   UCalgary   L2      https://commons.datacite.org/doi.org/10.11575/z7x6-5c42   REGO All Sky Imagers daily montage summary product (PGM format)           \n",
      "REGO_DAILY_MONTAGE_PNG                   UCalgary   L2      https://commons.datacite.org/doi.org/10.11575/z7x6-5c42   REGO All Sky Imagers daily montage summary product (PNG format)           \n",
      "REGO_HOURLY_KEOGRAM_JPG                  UCalgary   L2      https://commons.datacite.org/doi.org/10.11575/z7x6-5c42   REGO All Sky Imagers hourly keogram summary product (JPG format)          \n",
      "REGO_HOURLY_KEOGRAM_PGM                  UCalgary   L2      https://commons.datacite.org/doi.org/10.11575/z7x6-5c42   REGO All Sky Imagers hourly keogram summary product (PGM format)          \n",
      "REGO_HOURLY_KEOGRAM_PNG                  UCalgary   L2      https://commons.datacite.org/doi.org/10.11575/z7x6-5c42   REGO All Sky Imagers hourly keogram summary product (PNG format)          \n",
      "REGO_HOURLY_MONTAGE_JPG                  UCalgary   L2      https://commons.datacite.org/doi.org/10.11575/z7x6-5c42   REGO All Sky Imagers hourly montage summary product (JPG format)          \n",
      "REGO_HOURLY_MONTAGE_PGM                  UCalgary   L2      https://commons.datacite.org/doi.org/10.11575/z7x6-5c42   REGO All Sky Imagers hourly montage summary product (PGM format)          \n",
      "REGO_HOURLY_MONTAGE_PNG                  UCalgary   L2      https://commons.datacite.org/doi.org/10.11575/z7x6-5c42   REGO All Sky Imagers hourly montage summary product (PNG format)          \n",
      "REGO_RAW                                 UCalgary   L0      https://commons.datacite.org/doi.org/10.11575/z7x6-5c42   REGO All Sky Imagers 3-sec raw data                                       \n",
      "REGO_SKYMAP_IDLSAV                       UCalgary   L3      https://commons.datacite.org/doi.org/10.11575/z7x6-5c42   REGO All Sky Imagers skymap data (IDL save format)                        \n",
      "THEMIS_ASI_DAILY_KEOGRAM_JPG             UCalgary   L2      None                                                      THEMIS All Sky Imagers daily keogram summary product (JPG format)         \n",
      "THEMIS_ASI_DAILY_KEOGRAM_PGM             UCalgary   L2      None                                                      THEMIS All Sky Imagers daily keogram summary product (PGM format)         \n",
      "THEMIS_ASI_DAILY_MONTAGE_JPG             UCalgary   L2      None                                                      THEMIS All Sky Imagers daily montage summary product (JPG format)         \n",
      "THEMIS_ASI_DAILY_MONTAGE_PGM             UCalgary   L2      None                                                      THEMIS All Sky Imagers daily montage summary product (PGM format)         \n",
      "THEMIS_ASI_HOURLY_AVERAGE_JPG            UCalgary   L2      None                                                      THEMIS All Sky Imagers hourly average summary product (JPG format)        \n",
      "THEMIS_ASI_HOURLY_AVERAGE_PGM            UCalgary   L2      None                                                      THEMIS All Sky Imagers hourly average summary product (PGM format)        \n",
      "THEMIS_ASI_HOURLY_KEOGRAM_JPG            UCalgary   L2      None                                                      THEMIS All Sky Imagers hourly keogram summary product (JPG format)        \n",
      "THEMIS_ASI_HOURLY_KEOGRAM_PGM            UCalgary   L2      None                                                      THEMIS All Sky Imagers hourly keogram summary product (PGM format)        \n",
      "THEMIS_ASI_HOURLY_MONTAGE_JPG            UCalgary   L2      None                                                      THEMIS All Sky Imagers hourly montage summary product (JPG format)        \n",
      "THEMIS_ASI_HOURLY_MONTAGE_PGM            UCalgary   L2      None                                                      THEMIS All Sky Imagers hourly montage summary product (PGM format)        \n",
      "THEMIS_ASI_RAW                           UCalgary   L0      None                                                      THEMIS All Sky Imagers 3-sec raw data                                     \n",
      "THEMIS_ASI_RAW_ROW2                      UCalgary   L0      None                                                      THEMIS All Sky Imagers raw row2 data                                      \n",
      "THEMIS_ASI_RAW_WIDE                      UCalgary   L0      None                                                      THEMIS All Sky Imagers raw wide data                                      \n",
      "THEMIS_ASI_SKYMAP_IDLSAV                 UCalgary   L3      None                                                      THEMIS All Sky Imagers skymap data (IDL save format)                      \n",
      "THEMIS_ASI_THUMB32                       UCalgary   L1A     None                                                      THEMIS All Sky Imagers thumb32 data                                       \n",
      "THEMIS_ASI_VEC1024                       UCalgary   L1A     None                                                      THEMIS All Sky Imagers vec1024 data                                       \n",
      "TREX_BLUE_CALIBRATION_FLATFIELD_IDLSAV   UCalgary   L3      https://commons.datacite.org/doi.org/10.11575/80pf-0p02   TREx Blueline All Sky Imagers Flatfield calibration data (IDL save format)\n",
      "TREX_BLUE_CALIBRATION_RAYLEIGHS_IDLSAV   UCalgary   L3      https://commons.datacite.org/doi.org/10.11575/80pf-0p02   TREx Blueline All Sky Imagers Rayleighs calibration data (IDL save format)\n",
      "TREX_BLUE_DAILY_KEOGRAM_PGM              UCalgary   L2      https://commons.datacite.org/doi.org/10.11575/80pf-0p02   TREx Blueline All Sky Imagers daily keogram summary product (PGM format)  \n",
      "TREX_BLUE_DAILY_KEOGRAM_PNG              UCalgary   L2      https://commons.datacite.org/doi.org/10.11575/80pf-0p02   TREx Blueline All Sky Imagers daily keogram summary product (PNG format)  \n",
      "TREX_BLUE_DAILY_MONTAGE_PGM              UCalgary   L2      https://commons.datacite.org/doi.org/10.11575/80pf-0p02   TREx Blueline All Sky Imagers daily montage summary product (PGM format)  \n",
      "TREX_BLUE_DAILY_MONTAGE_PNG              UCalgary   L2      https://commons.datacite.org/doi.org/10.11575/80pf-0p02   TREx Blueline All Sky Imagers daily montage summary product (PNG format)  \n",
      "TREX_BLUE_HOURLY_KEOGRAM_PGM             UCalgary   L2      https://commons.datacite.org/doi.org/10.11575/80pf-0p02   TREx Blueline All Sky Imagers hourly keogram summary product (PGM format) \n",
      "TREX_BLUE_HOURLY_KEOGRAM_PNG             UCalgary   L2      https://commons.datacite.org/doi.org/10.11575/80pf-0p02   TREx Blueline All Sky Imagers hourly keogram summary product (PNG format) \n",
      "TREX_BLUE_HOURLY_MONTAGE_PGM             UCalgary   L2      https://commons.datacite.org/doi.org/10.11575/80pf-0p02   TREx Blueline All Sky Imagers hourly montage summary product (PGM format) \n",
      "TREX_BLUE_HOURLY_MONTAGE_PNG             UCalgary   L2      https://commons.datacite.org/doi.org/10.11575/80pf-0p02   TREx Blueline All Sky Imagers hourly montage summary product (PNG format) \n",
      "TREX_BLUE_RAW                            UCalgary   L0      https://commons.datacite.org/doi.org/10.11575/80pf-0p02   TREx Blueline All Sky Imagers 3-sec raw data                              \n",
      "TREX_BLUE_SKYMAP_IDLSAV                  UCalgary   L3      https://commons.datacite.org/doi.org/10.11575/80pf-0p02   TREx Blueline All Sky Imagers skymap data (IDL save format)               \n",
      "TREX_NIR_CALIBRATION_FLATFIELD_IDLSAV    UCalgary   L3      https://commons.datacite.org/doi.org/10.11575/98w7-jp47   TREx NIR All Sky Imagers Flatfield calibration data (IDL save format)     \n",
      "TREX_NIR_CALIBRATION_RAYLEIGHS_IDLSAV    UCalgary   L3      https://commons.datacite.org/doi.org/10.11575/98w7-jp47   TREx NIR All Sky Imagers Rayleighs calibration data (IDL save format)     \n",
      "TREX_NIR_DAILY_KEOGRAM_PGM               UCalgary   L2      https://commons.datacite.org/doi.org/10.11575/98w7-jp47   TREx NIR All Sky Imagers daily keogram summary product (PGM format)       \n",
      "TREX_NIR_DAILY_KEOGRAM_PNG               UCalgary   L2      https://commons.datacite.org/doi.org/10.11575/98w7-jp47   TREx NIR All Sky Imagers daily keogram summary product (PNG format)       \n",
      "TREX_NIR_DAILY_MONTAGE_PGM               UCalgary   L2      https://commons.datacite.org/doi.org/10.11575/98w7-jp47   TREx NIR All Sky Imagers daily montage summary product (PGM format)       \n",
      "TREX_NIR_DAILY_MONTAGE_PNG               UCalgary   L2      https://commons.datacite.org/doi.org/10.11575/98w7-jp47   TREx NIR All Sky Imagers daily montage summary product (PNG format)       \n",
      "TREX_NIR_HOURLY_KEOGRAM_PGM              UCalgary   L2      https://commons.datacite.org/doi.org/10.11575/98w7-jp47   TREx NIR All Sky Imagers hourly keogram summary product (PGM format)      \n",
      "TREX_NIR_HOURLY_KEOGRAM_PNG              UCalgary   L2      https://commons.datacite.org/doi.org/10.11575/98w7-jp47   TREx NIR All Sky Imagers hourly keogram summary product (PNG format)      \n",
      "TREX_NIR_HOURLY_MONTAGE_PGM              UCalgary   L2      https://commons.datacite.org/doi.org/10.11575/98w7-jp47   TREx NIR All Sky Imagers hourly montage summary product (PGM format)      \n",
      "TREX_NIR_HOURLY_MONTAGE_PNG              UCalgary   L2      https://commons.datacite.org/doi.org/10.11575/98w7-jp47   TREx NIR All Sky Imagers hourly montage summary product (PNG format)      \n",
      "TREX_NIR_RAW                             UCalgary   L0      https://commons.datacite.org/doi.org/10.11575/98w7-jp47   TREx NIR All Sky Imagers 6-sec raw data                                   \n",
      "TREX_NIR_SKYMAP_IDLSAV                   UCalgary   L3      https://commons.datacite.org/doi.org/10.11575/98w7-jp47   TREx NIR All Sky Imagers skymap data (IDL save format)                    \n",
      "TREX_RGB_DAILY_KEOGRAM                   UCalgary   L2      https://commons.datacite.org/doi.org/10.11575/4p8e-1k65   TREx RGB All Sky Imagers daily keogram summary product                    \n",
      "TREX_RGB_DAILY_MONTAGE                   UCalgary   L2      https://commons.datacite.org/doi.org/10.11575/4p8e-1k65   TREx RGB All Sky Imagers daily montage summary product                    \n",
      "TREX_RGB_HOURLY_KEOGRAM                  UCalgary   L2      https://commons.datacite.org/doi.org/10.11575/4p8e-1k65   TREx RGB All Sky Imagers hourly keogram summary product                   \n",
      "TREX_RGB_HOURLY_MONTAGE                  UCalgary   L2      https://commons.datacite.org/doi.org/10.11575/4p8e-1k65   TREx RGB All Sky Imagers hourly montage summary product                   \n",
      "TREX_RGB_RAW_BURST                       UCalgary   L0      https://commons.datacite.org/doi.org/10.11575/4p8e-1k65   TREx RGB All Sky Imagers 3Hz raw burst data                               \n",
      "TREX_RGB_RAW_NOMINAL                     UCalgary   L0      https://commons.datacite.org/doi.org/10.11575/4p8e-1k65   TREx RGB All Sky Imagers 3-sec raw data                                   \n",
      "TREX_RGB_SKYMAP_IDLSAV                   UCalgary   L3      https://commons.datacite.org/doi.org/10.11575/4p8e-1k65   TREx RGB All Sky Imagers skymap data (IDL save format)                    \n"
     ]
    }
   ],
   "source": [
    "# list all datasets\n",
    "datasets = aurorax.data.list_datasets()\n",
    "\n",
    "# print them out in a table\n",
    "aurorax.data.list_datasets_in_table()"
   ]
  },
  {
   "cell_type": "code",
   "execution_count": 16,
   "id": "04c5ab88",
   "metadata": {},
   "outputs": [
    {
     "name": "stdout",
     "output_type": "stream",
     "text": [
      "Object representation:\n",
      "----------------\n",
      "Dataset(name=TREX_RGB_RAW_NOMINAL, short_description='TREx RGB All Sky Imagers 3-sec raw data', provider='UCalgary', level='L0', doi_details='https://commons.datacite.org/doi.org/10.11575/4p8e-1k65', ...)\n",
      "\n",
      "\n",
      "Object as a dictionary:\n",
      "----------------\n",
      "{'citation': 'Spanswick, E., & Donovan, E. Transition Region Explorer - RGB '\n",
      "             'Dataset [Data set]. University of Calgary. '\n",
      "             'https://doi.org/10.11575/4P8E-1K65',\n",
      " 'data_tree_url': 'https://data.phys.ucalgary.ca/sort_by_project/TREx/RGB/stream0',\n",
      " 'doi': 'https://doi.org/10.11575/4P8E-1K65',\n",
      " 'doi_details': 'https://commons.datacite.org/doi.org/10.11575/4p8e-1k65',\n",
      " 'file_listing_supported': True,\n",
      " 'file_reading_supported': True,\n",
      " 'level': 'L0',\n",
      " 'long_description': 'Transition Region Explorer (TREx) full-color RGB All Sky '\n",
      "                     'Imager array. More information can be found at '\n",
      "                     'https://data.phys.ucalgary.ca',\n",
      " 'name': 'TREX_RGB_RAW_NOMINAL',\n",
      " 'provider': 'UCalgary',\n",
      " 'short_description': 'TREx RGB All Sky Imagers 3-sec raw data'}\n"
     ]
    }
   ],
   "source": [
    "# get the TREx RGB raw dataset\n",
    "dataset = aurorax.data.list_datasets(\"TREX_RGB_RAW_NOMINAL\")[0]\n",
    "\n",
    "# view Dataset object in a few different ways\n",
    "print(\"Object representation:\\n----------------\")\n",
    "print(dataset)\n",
    "\n",
    "print()\n",
    "print()\n",
    "\n",
    "# and now as a dictionary\n",
    "print(\"Object as a dictionary:\\n----------------\")\n",
    "pprint.pprint(dataset.__dict__)"
   ]
  },
  {
   "cell_type": "code",
   "execution_count": 18,
   "id": "8c9e1d86",
   "metadata": {},
   "outputs": [
    {
     "name": "stdout",
     "output_type": "stream",
     "text": [
      "Dataset:\n",
      "  citation                   : Spanswick, E., & Donovan, E. Transition Region Explorer - RGB Dataset [Data set]. University of Calgary. https://doi.org/10.11575/4P8E-1K65\n",
      "  data_tree_url              : https://data.phys.ucalgary.ca/sort_by_project/TREx/RGB/stream0\n",
      "  doi                        : https://doi.org/10.11575/4P8E-1K65\n",
      "  doi_details                : https://commons.datacite.org/doi.org/10.11575/4p8e-1k65\n",
      "  file_listing_supported     : True\n",
      "  file_reading_supported     : True\n",
      "  level                      : L0\n",
      "  long_description           : Transition Region Explorer (TREx) full-color RGB All Sky Imager array. More information can be found at https://data.phys.ucalgary.ca\n",
      "  name                       : TREX_RGB_RAW_NOMINAL\n",
      "  provider                   : UCalgary\n",
      "  short_description          : TREx RGB All Sky Imagers 3-sec raw data\n"
     ]
    }
   ],
   "source": [
    "# there is also a pretty_print function to show all information in a different way\n",
    "dataset.pretty_print()"
   ]
  },
  {
   "cell_type": "markdown",
   "id": "8c001a93",
   "metadata": {},
   "source": [
    "## Explore observatories\n",
    "\n",
    "Each ASI array has a set of observatories where instruments are deployed. We can easily view observatory information using the `list_observatories()` functions. We show some examples below."
   ]
  },
  {
   "cell_type": "code",
   "execution_count": 10,
   "id": "8711d351",
   "metadata": {},
   "outputs": [
    {
     "name": "stdout",
     "output_type": "stream",
     "text": [
      "UID    Full Name                   Geodetic Latitude   Geodetic Longitude   Provider\n",
      "====================================================================================\n",
      "atha   Athabasca, AB, Canada       54.6                -113.64              UCalgary\n",
      "chbg   Chibougamau, QC, Canada     49.81               -74.42               UCalgary\n",
      "ekat   Ekati, NWT, Canada          64.73               -110.67              UCalgary\n",
      "fsim   Fort Simpson, NWT, Canada   61.76               -121.27              UCalgary\n",
      "fsmi   Fort Smith, NWT, Canada     60.03               -111.93              UCalgary\n",
      "fykn   Fort Yukon, AK, USA         66.56               -145.21              UCalgary\n",
      "gako   Gakona, AK, USA             62.41               -145.16              UCalgary\n",
      "gbay   Goose Bay, NL, Canada       53.32               -60.46               UCalgary\n",
      "gill   Gillam, MB, Canada          56.38               -94.64               UCalgary\n",
      "inuv   Inuvik, NWT, Canada         68.41               -133.77              UCalgary\n",
      "kapu   Kapuskasing, ON, Canada     49.39               -82.32               UCalgary\n",
      "kian   Kiana, AK, USA              66.97               -160.44              UCalgary\n",
      "kuuj   Kuujjuaq, QC, Canada        58.11               -68.41               UCalgary\n",
      "mcgr   McGrath, AK, USA            62.95               -155.6               UCalgary\n",
      "nrsq   Narsarsuaq, Greenland       61.16               -45.44               UCalgary\n",
      "pgeo   Prince George, BC, Canada   53.76               -122.85              UCalgary\n",
      "pina   Pinawa, MB, Canada          50.26               -95.87               UCalgary\n",
      "rank   Rankin Inlet, NU, Canada    62.82               -92.11               UCalgary\n",
      "snap   Snap Lake, NWT, Canada      63.56               -110.87              UCalgary\n",
      "snkq   Sanikiluaq, NU, Canada      56.54               -79.23               UCalgary\n",
      "talo   Taloyoak, NU, Canada        69.54               -93.56               UCalgary\n",
      "tpas   The Pas, MB, Canada         53.99               -100.94              UCalgary\n",
      "whit   Whitehorse, YK, Canada      60.62               -135.01              UCalgary\n",
      "yknf   Yellowknife, NWT, Canada    62.52               -114.31              UCalgary\n"
     ]
    }
   ],
   "source": [
    "# list all observatories\n",
    "#\n",
    "# we must supply an 'instrument array' parameter to this function. View the \n",
    "# documentation or integrated type hinting in VSCode to see possible instrument \n",
    "# array choices.\n",
    "observatories = aurorax.data.list_observatories(\"themis_asi\")    # some choices are: themis_asi, rego, trex_nir, trex_rgb, trex_blue\n",
    "\n",
    "# print them out in a table\n",
    "aurorax.data.list_observatories_in_table(\"themis_asi\")"
   ]
  },
  {
   "cell_type": "code",
   "execution_count": 11,
   "id": "622a606d",
   "metadata": {},
   "outputs": [
    {
     "name": "stdout",
     "output_type": "stream",
     "text": [
      "Observatory(uid=atha, full_name='Athabasca, AB, Canada', geodetic_latitude=54.6, geodetic_longitude=-113.64, provider='UCalgary')\n",
      "\n",
      "{'full_name': 'Athabasca, AB, Canada',\n",
      " 'geodetic_latitude': 54.6,\n",
      " 'geodetic_longitude': -113.64,\n",
      " 'provider': 'UCalgary',\n",
      " 'uid': 'atha'}\n"
     ]
    }
   ],
   "source": [
    "# view the first dataset\n",
    "print(observatories[0])\n",
    "\n",
    "print()\n",
    "\n",
    "# show all values in the Dataset class\n",
    "pprint.pprint(observatories[0].__dict__)"
   ]
  },
  {
   "cell_type": "code",
   "execution_count": 12,
   "id": "0cbddb8f",
   "metadata": {},
   "outputs": [
    {
     "name": "stdout",
     "output_type": "stream",
     "text": [
      "Observatory:\n",
      "  full_name             : Athabasca, AB, Canada\n",
      "  geodetic_latitude     : 54.6\n",
      "  geodetic_longitude    : -113.64\n",
      "  provider              : UCalgary\n",
      "  uid                   : atha\n"
     ]
    }
   ],
   "source": [
    "# there is also a pretty_print function to show all information in a different way\n",
    "observatories[0].pretty_print()"
   ]
  },
  {
   "cell_type": "markdown",
   "id": "f70e3013-c1ff-49a7-a413-d4abbe77e497",
   "metadata": {},
   "source": [
    "## Download the data\n",
    "\n",
    "We are going to download an hour of THEMIS data from the camera in Athabasca, AB.\n",
    "\n",
    "The `download()` function provides the ability to download a timeframe of data for a specific dataset. As a dataset can have data from many different sites, the site is an optional flag. There are also a few more options to choose from, including disabling or customizing the progress bar, forcing the data to be redownloaded even if it exists locally already, or adjusting the number of parallel download streams. Explore the API reference documentation for the function to learn more.\n",
    "\n",
    "<small>Note: If you are running this notebook from within VSCode and you want the progress bar to be dark theme, insert the HTML markup [found here](https://github.com/microsoft/vscode-jupyter/issues/7161#issuecomment-1616627670) at the top of the notebook.</small>"
   ]
  },
  {
   "cell_type": "code",
   "execution_count": 19,
   "id": "2110ebdb",
   "metadata": {},
   "outputs": [
    {
     "data": {
      "application/vnd.jupyter.widget-view+json": {
       "model_id": "9a65c766466149878ee4ecdd7ddea37a",
       "version_major": 2,
       "version_minor": 0
      },
      "text/plain": [
       "Downloading THEMIS_ASI_RAW files:   0%|          | 0.00/128M [00:00<?, ?B/s]"
      ]
     },
     "metadata": {},
     "output_type": "display_data"
    }
   ],
   "source": [
    "# download an hour of THEMIS ASI data\n",
    "dataset_name = \"THEMIS_ASI_RAW\"\n",
    "start_dt = datetime.datetime(2021, 11, 4, 9, 0)\n",
    "end_dt = datetime.datetime(2021, 11, 4, 9, 59)\n",
    "site_uid = \"atha\"\n",
    "r = aurorax.data.ucalgary.download(dataset_name, start_dt, end_dt, site_uid=site_uid)"
   ]
  },
  {
   "cell_type": "markdown",
   "id": "47bf71fe",
   "metadata": {},
   "source": [
    "If you want to download 5 minutes of data from all sites, you can do that too by adjusting the start and end times, and excluding the site_uid parameter."
   ]
  },
  {
   "cell_type": "code",
   "execution_count": 20,
   "id": "e28f5628",
   "metadata": {},
   "outputs": [
    {
     "data": {
      "application/vnd.jupyter.widget-view+json": {
       "model_id": "72ba2c6e2dc64be8a1994f33bf88343a",
       "version_major": 2,
       "version_minor": 0
      },
      "text/plain": [
       "Downloading THEMIS_ASI_RAW files:   0%|          | 0.00/136M [00:00<?, ?B/s]"
      ]
     },
     "metadata": {},
     "output_type": "display_data"
    },
    {
     "data": {
      "text/plain": [
       "FileDownloadResult(filenames=[PosixPath('/home/darrenc/pyaurorax_data/THEMIS_ASI_RAW/2021/11/04/atha_themis02/ut09/20211104_0900_atha_themis02_full.pgm.gz'), PosixPath('/home/darrenc/pyaurorax_data/THEMIS_ASI_RAW/2021/11/04/atha_themis02/ut09/20211104_0901_atha_themis02_full.pgm.gz'), PosixPath('/home/darrenc/pyaurorax_data/THEMIS_ASI_RAW/2021/11/04/atha_themis02/ut09/20211104_0902_atha_themis02_full.pgm.gz'), PosixPath('/home/darrenc/pyaurorax_data/THEMIS_ASI_RAW/2021/11/04/atha_themis02/ut09/20211104_0903_atha_themis02_full.pgm.gz'), PosixPath('/home/darrenc/pyaurorax_data/THEMIS_ASI_RAW/2021/11/04/atha_themis02/ut09/20211104_0904_atha_themis02_full.pgm.gz'), PosixPath('/home/darrenc/pyaurorax_data/THEMIS_ASI_RAW/2021/11/04/fsim_themis08/ut09/20211104_0900_fsim_themis08_full.pgm.gz'), PosixPath('/home/darrenc/pyaurorax_data/THEMIS_ASI_RAW/2021/11/04/fsim_themis08/ut09/20211104_0901_fsim_themis08_full.pgm.gz'), PosixPath('/home/darrenc/pyaurorax_data/THEMIS_ASI_RAW/2021/11/04/fsim_themis08/ut09/20211104_0902_fsim_themis08_full.pgm.gz'), PosixPath('/home/darrenc/pyaurorax_data/THEMIS_ASI_RAW/2021/11/04/fsim_themis08/ut09/20211104_0903_fsim_themis08_full.pgm.gz'), PosixPath('/home/darrenc/pyaurorax_data/THEMIS_ASI_RAW/2021/11/04/fsim_themis08/ut09/20211104_0904_fsim_themis08_full.pgm.gz'), PosixPath('/home/darrenc/pyaurorax_data/THEMIS_ASI_RAW/2021/11/04/fsmi_themis10/ut09/20211104_0900_fsmi_themis10_full.pgm.gz'), PosixPath('/home/darrenc/pyaurorax_data/THEMIS_ASI_RAW/2021/11/04/fsmi_themis10/ut09/20211104_0901_fsmi_themis10_full.pgm.gz'), PosixPath('/home/darrenc/pyaurorax_data/THEMIS_ASI_RAW/2021/11/04/fsmi_themis10/ut09/20211104_0902_fsmi_themis10_full.pgm.gz'), PosixPath('/home/darrenc/pyaurorax_data/THEMIS_ASI_RAW/2021/11/04/fsmi_themis10/ut09/20211104_0903_fsmi_themis10_full.pgm.gz'), PosixPath('/home/darrenc/pyaurorax_data/THEMIS_ASI_RAW/2021/11/04/fsmi_themis10/ut09/20211104_0904_fsmi_themis10_full.pgm.gz'), PosixPath('/home/darrenc/pyaurorax_data/THEMIS_ASI_RAW/2021/11/04/gako_themis20/ut09/20211104_0900_gako_themis20_full.pgm.gz'), PosixPath('/home/darrenc/pyaurorax_data/THEMIS_ASI_RAW/2021/11/04/gako_themis20/ut09/20211104_0901_gako_themis20_full.pgm.gz'), PosixPath('/home/darrenc/pyaurorax_data/THEMIS_ASI_RAW/2021/11/04/gako_themis20/ut09/20211104_0902_gako_themis20_full.pgm.gz'), PosixPath('/home/darrenc/pyaurorax_data/THEMIS_ASI_RAW/2021/11/04/gako_themis20/ut09/20211104_0903_gako_themis20_full.pgm.gz'), PosixPath('/home/darrenc/pyaurorax_data/THEMIS_ASI_RAW/2021/11/04/gako_themis20/ut09/20211104_0904_gako_themis20_full.pgm.gz'), PosixPath('/home/darrenc/pyaurorax_data/THEMIS_ASI_RAW/2021/11/04/inuv_themis17/ut09/20211104_0900_inuv_themis17_full.pgm.gz'), PosixPath('/home/darrenc/pyaurorax_data/THEMIS_ASI_RAW/2021/11/04/inuv_themis17/ut09/20211104_0901_inuv_themis17_full.pgm.gz'), PosixPath('/home/darrenc/pyaurorax_data/THEMIS_ASI_RAW/2021/11/04/inuv_themis17/ut09/20211104_0902_inuv_themis17_full.pgm.gz'), PosixPath('/home/darrenc/pyaurorax_data/THEMIS_ASI_RAW/2021/11/04/inuv_themis17/ut09/20211104_0903_inuv_themis17_full.pgm.gz'), PosixPath('/home/darrenc/pyaurorax_data/THEMIS_ASI_RAW/2021/11/04/inuv_themis17/ut09/20211104_0904_inuv_themis17_full.pgm.gz'), PosixPath('/home/darrenc/pyaurorax_data/THEMIS_ASI_RAW/2021/11/04/kapu_themis21/ut09/20211104_0900_kapu_themis21_full.pgm.gz'), PosixPath('/home/darrenc/pyaurorax_data/THEMIS_ASI_RAW/2021/11/04/kapu_themis21/ut09/20211104_0901_kapu_themis21_full.pgm.gz'), PosixPath('/home/darrenc/pyaurorax_data/THEMIS_ASI_RAW/2021/11/04/kapu_themis21/ut09/20211104_0902_kapu_themis21_full.pgm.gz'), PosixPath('/home/darrenc/pyaurorax_data/THEMIS_ASI_RAW/2021/11/04/kapu_themis21/ut09/20211104_0903_kapu_themis21_full.pgm.gz'), PosixPath('/home/darrenc/pyaurorax_data/THEMIS_ASI_RAW/2021/11/04/kapu_themis21/ut09/20211104_0904_kapu_themis21_full.pgm.gz'), PosixPath('/home/darrenc/pyaurorax_data/THEMIS_ASI_RAW/2021/11/04/kian_themis22/ut09/20211104_0900_kian_themis22_full.pgm.gz'), PosixPath('/home/darrenc/pyaurorax_data/THEMIS_ASI_RAW/2021/11/04/kian_themis22/ut09/20211104_0901_kian_themis22_full.pgm.gz'), PosixPath('/home/darrenc/pyaurorax_data/THEMIS_ASI_RAW/2021/11/04/kian_themis22/ut09/20211104_0902_kian_themis22_full.pgm.gz'), PosixPath('/home/darrenc/pyaurorax_data/THEMIS_ASI_RAW/2021/11/04/kian_themis22/ut09/20211104_0903_kian_themis22_full.pgm.gz'), PosixPath('/home/darrenc/pyaurorax_data/THEMIS_ASI_RAW/2021/11/04/kian_themis22/ut09/20211104_0904_kian_themis22_full.pgm.gz'), PosixPath('/home/darrenc/pyaurorax_data/THEMIS_ASI_RAW/2021/11/04/kuuj_themis13/ut09/20211104_0900_kuuj_themis13_full.pgm.gz'), PosixPath('/home/darrenc/pyaurorax_data/THEMIS_ASI_RAW/2021/11/04/kuuj_themis13/ut09/20211104_0901_kuuj_themis13_full.pgm.gz'), PosixPath('/home/darrenc/pyaurorax_data/THEMIS_ASI_RAW/2021/11/04/kuuj_themis13/ut09/20211104_0902_kuuj_themis13_full.pgm.gz'), PosixPath('/home/darrenc/pyaurorax_data/THEMIS_ASI_RAW/2021/11/04/kuuj_themis13/ut09/20211104_0903_kuuj_themis13_full.pgm.gz'), PosixPath('/home/darrenc/pyaurorax_data/THEMIS_ASI_RAW/2021/11/04/kuuj_themis13/ut09/20211104_0904_kuuj_themis13_full.pgm.gz'), PosixPath('/home/darrenc/pyaurorax_data/THEMIS_ASI_RAW/2021/11/04/pina_themis18/ut09/20211104_0900_pina_themis18_full.pgm.gz'), PosixPath('/home/darrenc/pyaurorax_data/THEMIS_ASI_RAW/2021/11/04/pina_themis18/ut09/20211104_0901_pina_themis18_full.pgm.gz'), PosixPath('/home/darrenc/pyaurorax_data/THEMIS_ASI_RAW/2021/11/04/pina_themis18/ut09/20211104_0902_pina_themis18_full.pgm.gz'), PosixPath('/home/darrenc/pyaurorax_data/THEMIS_ASI_RAW/2021/11/04/pina_themis18/ut09/20211104_0903_pina_themis18_full.pgm.gz'), PosixPath('/home/darrenc/pyaurorax_data/THEMIS_ASI_RAW/2021/11/04/pina_themis18/ut09/20211104_0904_pina_themis18_full.pgm.gz'), PosixPath('/home/darrenc/pyaurorax_data/THEMIS_ASI_RAW/2021/11/04/rank_themis12/ut09/20211104_0900_rank_themis12_full.pgm.gz'), PosixPath('/home/darrenc/pyaurorax_data/THEMIS_ASI_RAW/2021/11/04/rank_themis12/ut09/20211104_0901_rank_themis12_full.pgm.gz'), PosixPath('/home/darrenc/pyaurorax_data/THEMIS_ASI_RAW/2021/11/04/rank_themis12/ut09/20211104_0902_rank_themis12_full.pgm.gz'), PosixPath('/home/darrenc/pyaurorax_data/THEMIS_ASI_RAW/2021/11/04/rank_themis12/ut09/20211104_0903_rank_themis12_full.pgm.gz'), PosixPath('/home/darrenc/pyaurorax_data/THEMIS_ASI_RAW/2021/11/04/rank_themis12/ut09/20211104_0904_rank_themis12_full.pgm.gz'), PosixPath('/home/darrenc/pyaurorax_data/THEMIS_ASI_RAW/2021/11/04/snkq_themis09/ut09/20211104_0900_snkq_themis09_full.pgm.gz'), PosixPath('/home/darrenc/pyaurorax_data/THEMIS_ASI_RAW/2021/11/04/snkq_themis09/ut09/20211104_0901_snkq_themis09_full.pgm.gz'), PosixPath('/home/darrenc/pyaurorax_data/THEMIS_ASI_RAW/2021/11/04/snkq_themis09/ut09/20211104_0902_snkq_themis09_full.pgm.gz'), PosixPath('/home/darrenc/pyaurorax_data/THEMIS_ASI_RAW/2021/11/04/snkq_themis09/ut09/20211104_0903_snkq_themis09_full.pgm.gz'), PosixPath('/home/darrenc/pyaurorax_data/THEMIS_ASI_RAW/2021/11/04/snkq_themis09/ut09/20211104_0904_snkq_themis09_full.pgm.gz'), PosixPath('/home/darrenc/pyaurorax_data/THEMIS_ASI_RAW/2021/11/04/talo_themis15/ut09/20211104_0900_talo_themis15_full.pgm.gz'), PosixPath('/home/darrenc/pyaurorax_data/THEMIS_ASI_RAW/2021/11/04/talo_themis15/ut09/20211104_0901_talo_themis15_full.pgm.gz'), PosixPath('/home/darrenc/pyaurorax_data/THEMIS_ASI_RAW/2021/11/04/talo_themis15/ut09/20211104_0902_talo_themis15_full.pgm.gz'), PosixPath('/home/darrenc/pyaurorax_data/THEMIS_ASI_RAW/2021/11/04/talo_themis15/ut09/20211104_0903_talo_themis15_full.pgm.gz'), PosixPath('/home/darrenc/pyaurorax_data/THEMIS_ASI_RAW/2021/11/04/talo_themis15/ut09/20211104_0904_talo_themis15_full.pgm.gz'), PosixPath('/home/darrenc/pyaurorax_data/THEMIS_ASI_RAW/2021/11/04/tpas_themis05/ut09/20211104_0900_tpas_themis05_full.pgm.gz'), PosixPath('/home/darrenc/pyaurorax_data/THEMIS_ASI_RAW/2021/11/04/tpas_themis05/ut09/20211104_0901_tpas_themis05_full.pgm.gz'), PosixPath('/home/darrenc/pyaurorax_data/THEMIS_ASI_RAW/2021/11/04/tpas_themis05/ut09/20211104_0902_tpas_themis05_full.pgm.gz'), PosixPath('/home/darrenc/pyaurorax_data/THEMIS_ASI_RAW/2021/11/04/tpas_themis05/ut09/20211104_0903_tpas_themis05_full.pgm.gz'), PosixPath('/home/darrenc/pyaurorax_data/THEMIS_ASI_RAW/2021/11/04/tpas_themis05/ut09/20211104_0904_tpas_themis05_full.pgm.gz')], count=65, total_bytes=125713906, output_root_path='/home/darrenc/pyaurorax_data/THEMIS_ASI_RAW', dataset=Dataset(name=THEMIS_ASI_RAW, short_description='THEMIS All Sky Imagers 3-sec raw data', provider='UCalgary', level='L0', doi_details='None', ...))"
      ]
     },
     "execution_count": 20,
     "metadata": {},
     "output_type": "execute_result"
    }
   ],
   "source": [
    "# download 5 minutes of data from all sites\n",
    "dataset_name = \"THEMIS_ASI_RAW\"\n",
    "start_dt = datetime.datetime(2021, 11, 4, 9, 0)\n",
    "end_dt = datetime.datetime(2021, 11, 4, 9, 4)\n",
    "aurorax.data.ucalgary.download(dataset_name, start_dt, end_dt)"
   ]
  },
  {
   "cell_type": "markdown",
   "id": "95a6d0de",
   "metadata": {},
   "source": [
    "When data is downloaded, a `FileDownloadResult` object is returned that has details about the data just downloaded. Though this information is not normally used by many of the common workflows, it is still available if needed."
   ]
  },
  {
   "cell_type": "code",
   "execution_count": 21,
   "id": "5355dd58",
   "metadata": {},
   "outputs": [
    {
     "name": "stdout",
     "output_type": "stream",
     "text": [
      "FileDownloadResult(filenames=[PosixPath('/home/darrenc/pyaurorax_data/THEMIS_ASI_RAW/2021/11/04/atha_themis02/ut09/20211104_0900_atha_themis02_full.pgm.gz'), PosixPath('/home/darrenc/pyaurorax_data/THEMIS_ASI_RAW/2021/11/04/atha_themis02/ut09/20211104_0901_atha_themis02_full.pgm.gz'), PosixPath('/home/darrenc/pyaurorax_data/THEMIS_ASI_RAW/2021/11/04/atha_themis02/ut09/20211104_0902_atha_themis02_full.pgm.gz'), PosixPath('/home/darrenc/pyaurorax_data/THEMIS_ASI_RAW/2021/11/04/atha_themis02/ut09/20211104_0903_atha_themis02_full.pgm.gz'), PosixPath('/home/darrenc/pyaurorax_data/THEMIS_ASI_RAW/2021/11/04/atha_themis02/ut09/20211104_0904_atha_themis02_full.pgm.gz'), PosixPath('/home/darrenc/pyaurorax_data/THEMIS_ASI_RAW/2021/11/04/atha_themis02/ut09/20211104_0905_atha_themis02_full.pgm.gz'), PosixPath('/home/darrenc/pyaurorax_data/THEMIS_ASI_RAW/2021/11/04/atha_themis02/ut09/20211104_0906_atha_themis02_full.pgm.gz'), PosixPath('/home/darrenc/pyaurorax_data/THEMIS_ASI_RAW/2021/11/04/atha_themis02/ut09/20211104_0907_atha_themis02_full.pgm.gz'), PosixPath('/home/darrenc/pyaurorax_data/THEMIS_ASI_RAW/2021/11/04/atha_themis02/ut09/20211104_0908_atha_themis02_full.pgm.gz'), PosixPath('/home/darrenc/pyaurorax_data/THEMIS_ASI_RAW/2021/11/04/atha_themis02/ut09/20211104_0909_atha_themis02_full.pgm.gz'), PosixPath('/home/darrenc/pyaurorax_data/THEMIS_ASI_RAW/2021/11/04/atha_themis02/ut09/20211104_0910_atha_themis02_full.pgm.gz'), PosixPath('/home/darrenc/pyaurorax_data/THEMIS_ASI_RAW/2021/11/04/atha_themis02/ut09/20211104_0911_atha_themis02_full.pgm.gz'), PosixPath('/home/darrenc/pyaurorax_data/THEMIS_ASI_RAW/2021/11/04/atha_themis02/ut09/20211104_0912_atha_themis02_full.pgm.gz'), PosixPath('/home/darrenc/pyaurorax_data/THEMIS_ASI_RAW/2021/11/04/atha_themis02/ut09/20211104_0913_atha_themis02_full.pgm.gz'), PosixPath('/home/darrenc/pyaurorax_data/THEMIS_ASI_RAW/2021/11/04/atha_themis02/ut09/20211104_0914_atha_themis02_full.pgm.gz'), PosixPath('/home/darrenc/pyaurorax_data/THEMIS_ASI_RAW/2021/11/04/atha_themis02/ut09/20211104_0915_atha_themis02_full.pgm.gz'), PosixPath('/home/darrenc/pyaurorax_data/THEMIS_ASI_RAW/2021/11/04/atha_themis02/ut09/20211104_0916_atha_themis02_full.pgm.gz'), PosixPath('/home/darrenc/pyaurorax_data/THEMIS_ASI_RAW/2021/11/04/atha_themis02/ut09/20211104_0917_atha_themis02_full.pgm.gz'), PosixPath('/home/darrenc/pyaurorax_data/THEMIS_ASI_RAW/2021/11/04/atha_themis02/ut09/20211104_0918_atha_themis02_full.pgm.gz'), PosixPath('/home/darrenc/pyaurorax_data/THEMIS_ASI_RAW/2021/11/04/atha_themis02/ut09/20211104_0919_atha_themis02_full.pgm.gz'), PosixPath('/home/darrenc/pyaurorax_data/THEMIS_ASI_RAW/2021/11/04/atha_themis02/ut09/20211104_0920_atha_themis02_full.pgm.gz'), PosixPath('/home/darrenc/pyaurorax_data/THEMIS_ASI_RAW/2021/11/04/atha_themis02/ut09/20211104_0921_atha_themis02_full.pgm.gz'), PosixPath('/home/darrenc/pyaurorax_data/THEMIS_ASI_RAW/2021/11/04/atha_themis02/ut09/20211104_0922_atha_themis02_full.pgm.gz'), PosixPath('/home/darrenc/pyaurorax_data/THEMIS_ASI_RAW/2021/11/04/atha_themis02/ut09/20211104_0923_atha_themis02_full.pgm.gz'), PosixPath('/home/darrenc/pyaurorax_data/THEMIS_ASI_RAW/2021/11/04/atha_themis02/ut09/20211104_0924_atha_themis02_full.pgm.gz'), PosixPath('/home/darrenc/pyaurorax_data/THEMIS_ASI_RAW/2021/11/04/atha_themis02/ut09/20211104_0925_atha_themis02_full.pgm.gz'), PosixPath('/home/darrenc/pyaurorax_data/THEMIS_ASI_RAW/2021/11/04/atha_themis02/ut09/20211104_0926_atha_themis02_full.pgm.gz'), PosixPath('/home/darrenc/pyaurorax_data/THEMIS_ASI_RAW/2021/11/04/atha_themis02/ut09/20211104_0927_atha_themis02_full.pgm.gz'), PosixPath('/home/darrenc/pyaurorax_data/THEMIS_ASI_RAW/2021/11/04/atha_themis02/ut09/20211104_0928_atha_themis02_full.pgm.gz'), PosixPath('/home/darrenc/pyaurorax_data/THEMIS_ASI_RAW/2021/11/04/atha_themis02/ut09/20211104_0929_atha_themis02_full.pgm.gz'), PosixPath('/home/darrenc/pyaurorax_data/THEMIS_ASI_RAW/2021/11/04/atha_themis02/ut09/20211104_0930_atha_themis02_full.pgm.gz'), PosixPath('/home/darrenc/pyaurorax_data/THEMIS_ASI_RAW/2021/11/04/atha_themis02/ut09/20211104_0931_atha_themis02_full.pgm.gz'), PosixPath('/home/darrenc/pyaurorax_data/THEMIS_ASI_RAW/2021/11/04/atha_themis02/ut09/20211104_0932_atha_themis02_full.pgm.gz'), PosixPath('/home/darrenc/pyaurorax_data/THEMIS_ASI_RAW/2021/11/04/atha_themis02/ut09/20211104_0933_atha_themis02_full.pgm.gz'), PosixPath('/home/darrenc/pyaurorax_data/THEMIS_ASI_RAW/2021/11/04/atha_themis02/ut09/20211104_0934_atha_themis02_full.pgm.gz'), PosixPath('/home/darrenc/pyaurorax_data/THEMIS_ASI_RAW/2021/11/04/atha_themis02/ut09/20211104_0935_atha_themis02_full.pgm.gz'), PosixPath('/home/darrenc/pyaurorax_data/THEMIS_ASI_RAW/2021/11/04/atha_themis02/ut09/20211104_0936_atha_themis02_full.pgm.gz'), PosixPath('/home/darrenc/pyaurorax_data/THEMIS_ASI_RAW/2021/11/04/atha_themis02/ut09/20211104_0937_atha_themis02_full.pgm.gz'), PosixPath('/home/darrenc/pyaurorax_data/THEMIS_ASI_RAW/2021/11/04/atha_themis02/ut09/20211104_0938_atha_themis02_full.pgm.gz'), PosixPath('/home/darrenc/pyaurorax_data/THEMIS_ASI_RAW/2021/11/04/atha_themis02/ut09/20211104_0939_atha_themis02_full.pgm.gz'), PosixPath('/home/darrenc/pyaurorax_data/THEMIS_ASI_RAW/2021/11/04/atha_themis02/ut09/20211104_0940_atha_themis02_full.pgm.gz'), PosixPath('/home/darrenc/pyaurorax_data/THEMIS_ASI_RAW/2021/11/04/atha_themis02/ut09/20211104_0941_atha_themis02_full.pgm.gz'), PosixPath('/home/darrenc/pyaurorax_data/THEMIS_ASI_RAW/2021/11/04/atha_themis02/ut09/20211104_0942_atha_themis02_full.pgm.gz'), PosixPath('/home/darrenc/pyaurorax_data/THEMIS_ASI_RAW/2021/11/04/atha_themis02/ut09/20211104_0943_atha_themis02_full.pgm.gz'), PosixPath('/home/darrenc/pyaurorax_data/THEMIS_ASI_RAW/2021/11/04/atha_themis02/ut09/20211104_0944_atha_themis02_full.pgm.gz'), PosixPath('/home/darrenc/pyaurorax_data/THEMIS_ASI_RAW/2021/11/04/atha_themis02/ut09/20211104_0945_atha_themis02_full.pgm.gz'), PosixPath('/home/darrenc/pyaurorax_data/THEMIS_ASI_RAW/2021/11/04/atha_themis02/ut09/20211104_0946_atha_themis02_full.pgm.gz'), PosixPath('/home/darrenc/pyaurorax_data/THEMIS_ASI_RAW/2021/11/04/atha_themis02/ut09/20211104_0947_atha_themis02_full.pgm.gz'), PosixPath('/home/darrenc/pyaurorax_data/THEMIS_ASI_RAW/2021/11/04/atha_themis02/ut09/20211104_0948_atha_themis02_full.pgm.gz'), PosixPath('/home/darrenc/pyaurorax_data/THEMIS_ASI_RAW/2021/11/04/atha_themis02/ut09/20211104_0949_atha_themis02_full.pgm.gz'), PosixPath('/home/darrenc/pyaurorax_data/THEMIS_ASI_RAW/2021/11/04/atha_themis02/ut09/20211104_0950_atha_themis02_full.pgm.gz'), PosixPath('/home/darrenc/pyaurorax_data/THEMIS_ASI_RAW/2021/11/04/atha_themis02/ut09/20211104_0951_atha_themis02_full.pgm.gz'), PosixPath('/home/darrenc/pyaurorax_data/THEMIS_ASI_RAW/2021/11/04/atha_themis02/ut09/20211104_0952_atha_themis02_full.pgm.gz'), PosixPath('/home/darrenc/pyaurorax_data/THEMIS_ASI_RAW/2021/11/04/atha_themis02/ut09/20211104_0953_atha_themis02_full.pgm.gz'), PosixPath('/home/darrenc/pyaurorax_data/THEMIS_ASI_RAW/2021/11/04/atha_themis02/ut09/20211104_0954_atha_themis02_full.pgm.gz'), PosixPath('/home/darrenc/pyaurorax_data/THEMIS_ASI_RAW/2021/11/04/atha_themis02/ut09/20211104_0955_atha_themis02_full.pgm.gz'), PosixPath('/home/darrenc/pyaurorax_data/THEMIS_ASI_RAW/2021/11/04/atha_themis02/ut09/20211104_0956_atha_themis02_full.pgm.gz'), PosixPath('/home/darrenc/pyaurorax_data/THEMIS_ASI_RAW/2021/11/04/atha_themis02/ut09/20211104_0957_atha_themis02_full.pgm.gz'), PosixPath('/home/darrenc/pyaurorax_data/THEMIS_ASI_RAW/2021/11/04/atha_themis02/ut09/20211104_0958_atha_themis02_full.pgm.gz'), PosixPath('/home/darrenc/pyaurorax_data/THEMIS_ASI_RAW/2021/11/04/atha_themis02/ut09/20211104_0959_atha_themis02_full.pgm.gz')], count=60, total_bytes=127920163, output_root_path='/home/darrenc/pyaurorax_data/THEMIS_ASI_RAW', dataset=Dataset(name=THEMIS_ASI_RAW, short_description='THEMIS All Sky Imagers 3-sec raw data', provider='UCalgary', level='L0', doi_details='None', ...))\n",
      "\n",
      "{'count': 60,\n",
      " 'dataset': Dataset(name=THEMIS_ASI_RAW, short_description='THEMIS All Sky Imagers 3-sec raw data', provider='UCalgary', level='L0', doi_details='None', ...),\n",
      " 'filenames': [PosixPath('/home/darrenc/pyaurorax_data/THEMIS_ASI_RAW/2021/11/04/atha_themis02/ut09/20211104_0900_atha_themis02_full.pgm.gz'),\n",
      "               PosixPath('/home/darrenc/pyaurorax_data/THEMIS_ASI_RAW/2021/11/04/atha_themis02/ut09/20211104_0901_atha_themis02_full.pgm.gz'),\n",
      "               PosixPath('/home/darrenc/pyaurorax_data/THEMIS_ASI_RAW/2021/11/04/atha_themis02/ut09/20211104_0902_atha_themis02_full.pgm.gz'),\n",
      "               PosixPath('/home/darrenc/pyaurorax_data/THEMIS_ASI_RAW/2021/11/04/atha_themis02/ut09/20211104_0903_atha_themis02_full.pgm.gz'),\n",
      "               PosixPath('/home/darrenc/pyaurorax_data/THEMIS_ASI_RAW/2021/11/04/atha_themis02/ut09/20211104_0904_atha_themis02_full.pgm.gz'),\n",
      "               PosixPath('/home/darrenc/pyaurorax_data/THEMIS_ASI_RAW/2021/11/04/atha_themis02/ut09/20211104_0905_atha_themis02_full.pgm.gz'),\n",
      "               PosixPath('/home/darrenc/pyaurorax_data/THEMIS_ASI_RAW/2021/11/04/atha_themis02/ut09/20211104_0906_atha_themis02_full.pgm.gz'),\n",
      "               PosixPath('/home/darrenc/pyaurorax_data/THEMIS_ASI_RAW/2021/11/04/atha_themis02/ut09/20211104_0907_atha_themis02_full.pgm.gz'),\n",
      "               PosixPath('/home/darrenc/pyaurorax_data/THEMIS_ASI_RAW/2021/11/04/atha_themis02/ut09/20211104_0908_atha_themis02_full.pgm.gz'),\n",
      "               PosixPath('/home/darrenc/pyaurorax_data/THEMIS_ASI_RAW/2021/11/04/atha_themis02/ut09/20211104_0909_atha_themis02_full.pgm.gz'),\n",
      "               PosixPath('/home/darrenc/pyaurorax_data/THEMIS_ASI_RAW/2021/11/04/atha_themis02/ut09/20211104_0910_atha_themis02_full.pgm.gz'),\n",
      "               PosixPath('/home/darrenc/pyaurorax_data/THEMIS_ASI_RAW/2021/11/04/atha_themis02/ut09/20211104_0911_atha_themis02_full.pgm.gz'),\n",
      "               PosixPath('/home/darrenc/pyaurorax_data/THEMIS_ASI_RAW/2021/11/04/atha_themis02/ut09/20211104_0912_atha_themis02_full.pgm.gz'),\n",
      "               PosixPath('/home/darrenc/pyaurorax_data/THEMIS_ASI_RAW/2021/11/04/atha_themis02/ut09/20211104_0913_atha_themis02_full.pgm.gz'),\n",
      "               PosixPath('/home/darrenc/pyaurorax_data/THEMIS_ASI_RAW/2021/11/04/atha_themis02/ut09/20211104_0914_atha_themis02_full.pgm.gz'),\n",
      "               PosixPath('/home/darrenc/pyaurorax_data/THEMIS_ASI_RAW/2021/11/04/atha_themis02/ut09/20211104_0915_atha_themis02_full.pgm.gz'),\n",
      "               PosixPath('/home/darrenc/pyaurorax_data/THEMIS_ASI_RAW/2021/11/04/atha_themis02/ut09/20211104_0916_atha_themis02_full.pgm.gz'),\n",
      "               PosixPath('/home/darrenc/pyaurorax_data/THEMIS_ASI_RAW/2021/11/04/atha_themis02/ut09/20211104_0917_atha_themis02_full.pgm.gz'),\n",
      "               PosixPath('/home/darrenc/pyaurorax_data/THEMIS_ASI_RAW/2021/11/04/atha_themis02/ut09/20211104_0918_atha_themis02_full.pgm.gz'),\n",
      "               PosixPath('/home/darrenc/pyaurorax_data/THEMIS_ASI_RAW/2021/11/04/atha_themis02/ut09/20211104_0919_atha_themis02_full.pgm.gz'),\n",
      "               PosixPath('/home/darrenc/pyaurorax_data/THEMIS_ASI_RAW/2021/11/04/atha_themis02/ut09/20211104_0920_atha_themis02_full.pgm.gz'),\n",
      "               PosixPath('/home/darrenc/pyaurorax_data/THEMIS_ASI_RAW/2021/11/04/atha_themis02/ut09/20211104_0921_atha_themis02_full.pgm.gz'),\n",
      "               PosixPath('/home/darrenc/pyaurorax_data/THEMIS_ASI_RAW/2021/11/04/atha_themis02/ut09/20211104_0922_atha_themis02_full.pgm.gz'),\n",
      "               PosixPath('/home/darrenc/pyaurorax_data/THEMIS_ASI_RAW/2021/11/04/atha_themis02/ut09/20211104_0923_atha_themis02_full.pgm.gz'),\n",
      "               PosixPath('/home/darrenc/pyaurorax_data/THEMIS_ASI_RAW/2021/11/04/atha_themis02/ut09/20211104_0924_atha_themis02_full.pgm.gz'),\n",
      "               PosixPath('/home/darrenc/pyaurorax_data/THEMIS_ASI_RAW/2021/11/04/atha_themis02/ut09/20211104_0925_atha_themis02_full.pgm.gz'),\n",
      "               PosixPath('/home/darrenc/pyaurorax_data/THEMIS_ASI_RAW/2021/11/04/atha_themis02/ut09/20211104_0926_atha_themis02_full.pgm.gz'),\n",
      "               PosixPath('/home/darrenc/pyaurorax_data/THEMIS_ASI_RAW/2021/11/04/atha_themis02/ut09/20211104_0927_atha_themis02_full.pgm.gz'),\n",
      "               PosixPath('/home/darrenc/pyaurorax_data/THEMIS_ASI_RAW/2021/11/04/atha_themis02/ut09/20211104_0928_atha_themis02_full.pgm.gz'),\n",
      "               PosixPath('/home/darrenc/pyaurorax_data/THEMIS_ASI_RAW/2021/11/04/atha_themis02/ut09/20211104_0929_atha_themis02_full.pgm.gz'),\n",
      "               PosixPath('/home/darrenc/pyaurorax_data/THEMIS_ASI_RAW/2021/11/04/atha_themis02/ut09/20211104_0930_atha_themis02_full.pgm.gz'),\n",
      "               PosixPath('/home/darrenc/pyaurorax_data/THEMIS_ASI_RAW/2021/11/04/atha_themis02/ut09/20211104_0931_atha_themis02_full.pgm.gz'),\n",
      "               PosixPath('/home/darrenc/pyaurorax_data/THEMIS_ASI_RAW/2021/11/04/atha_themis02/ut09/20211104_0932_atha_themis02_full.pgm.gz'),\n",
      "               PosixPath('/home/darrenc/pyaurorax_data/THEMIS_ASI_RAW/2021/11/04/atha_themis02/ut09/20211104_0933_atha_themis02_full.pgm.gz'),\n",
      "               PosixPath('/home/darrenc/pyaurorax_data/THEMIS_ASI_RAW/2021/11/04/atha_themis02/ut09/20211104_0934_atha_themis02_full.pgm.gz'),\n",
      "               PosixPath('/home/darrenc/pyaurorax_data/THEMIS_ASI_RAW/2021/11/04/atha_themis02/ut09/20211104_0935_atha_themis02_full.pgm.gz'),\n",
      "               PosixPath('/home/darrenc/pyaurorax_data/THEMIS_ASI_RAW/2021/11/04/atha_themis02/ut09/20211104_0936_atha_themis02_full.pgm.gz'),\n",
      "               PosixPath('/home/darrenc/pyaurorax_data/THEMIS_ASI_RAW/2021/11/04/atha_themis02/ut09/20211104_0937_atha_themis02_full.pgm.gz'),\n",
      "               PosixPath('/home/darrenc/pyaurorax_data/THEMIS_ASI_RAW/2021/11/04/atha_themis02/ut09/20211104_0938_atha_themis02_full.pgm.gz'),\n",
      "               PosixPath('/home/darrenc/pyaurorax_data/THEMIS_ASI_RAW/2021/11/04/atha_themis02/ut09/20211104_0939_atha_themis02_full.pgm.gz'),\n",
      "               PosixPath('/home/darrenc/pyaurorax_data/THEMIS_ASI_RAW/2021/11/04/atha_themis02/ut09/20211104_0940_atha_themis02_full.pgm.gz'),\n",
      "               PosixPath('/home/darrenc/pyaurorax_data/THEMIS_ASI_RAW/2021/11/04/atha_themis02/ut09/20211104_0941_atha_themis02_full.pgm.gz'),\n",
      "               PosixPath('/home/darrenc/pyaurorax_data/THEMIS_ASI_RAW/2021/11/04/atha_themis02/ut09/20211104_0942_atha_themis02_full.pgm.gz'),\n",
      "               PosixPath('/home/darrenc/pyaurorax_data/THEMIS_ASI_RAW/2021/11/04/atha_themis02/ut09/20211104_0943_atha_themis02_full.pgm.gz'),\n",
      "               PosixPath('/home/darrenc/pyaurorax_data/THEMIS_ASI_RAW/2021/11/04/atha_themis02/ut09/20211104_0944_atha_themis02_full.pgm.gz'),\n",
      "               PosixPath('/home/darrenc/pyaurorax_data/THEMIS_ASI_RAW/2021/11/04/atha_themis02/ut09/20211104_0945_atha_themis02_full.pgm.gz'),\n",
      "               PosixPath('/home/darrenc/pyaurorax_data/THEMIS_ASI_RAW/2021/11/04/atha_themis02/ut09/20211104_0946_atha_themis02_full.pgm.gz'),\n",
      "               PosixPath('/home/darrenc/pyaurorax_data/THEMIS_ASI_RAW/2021/11/04/atha_themis02/ut09/20211104_0947_atha_themis02_full.pgm.gz'),\n",
      "               PosixPath('/home/darrenc/pyaurorax_data/THEMIS_ASI_RAW/2021/11/04/atha_themis02/ut09/20211104_0948_atha_themis02_full.pgm.gz'),\n",
      "               PosixPath('/home/darrenc/pyaurorax_data/THEMIS_ASI_RAW/2021/11/04/atha_themis02/ut09/20211104_0949_atha_themis02_full.pgm.gz'),\n",
      "               PosixPath('/home/darrenc/pyaurorax_data/THEMIS_ASI_RAW/2021/11/04/atha_themis02/ut09/20211104_0950_atha_themis02_full.pgm.gz'),\n",
      "               PosixPath('/home/darrenc/pyaurorax_data/THEMIS_ASI_RAW/2021/11/04/atha_themis02/ut09/20211104_0951_atha_themis02_full.pgm.gz'),\n",
      "               PosixPath('/home/darrenc/pyaurorax_data/THEMIS_ASI_RAW/2021/11/04/atha_themis02/ut09/20211104_0952_atha_themis02_full.pgm.gz'),\n",
      "               PosixPath('/home/darrenc/pyaurorax_data/THEMIS_ASI_RAW/2021/11/04/atha_themis02/ut09/20211104_0953_atha_themis02_full.pgm.gz'),\n",
      "               PosixPath('/home/darrenc/pyaurorax_data/THEMIS_ASI_RAW/2021/11/04/atha_themis02/ut09/20211104_0954_atha_themis02_full.pgm.gz'),\n",
      "               PosixPath('/home/darrenc/pyaurorax_data/THEMIS_ASI_RAW/2021/11/04/atha_themis02/ut09/20211104_0955_atha_themis02_full.pgm.gz'),\n",
      "               PosixPath('/home/darrenc/pyaurorax_data/THEMIS_ASI_RAW/2021/11/04/atha_themis02/ut09/20211104_0956_atha_themis02_full.pgm.gz'),\n",
      "               PosixPath('/home/darrenc/pyaurorax_data/THEMIS_ASI_RAW/2021/11/04/atha_themis02/ut09/20211104_0957_atha_themis02_full.pgm.gz'),\n",
      "               PosixPath('/home/darrenc/pyaurorax_data/THEMIS_ASI_RAW/2021/11/04/atha_themis02/ut09/20211104_0958_atha_themis02_full.pgm.gz'),\n",
      "               PosixPath('/home/darrenc/pyaurorax_data/THEMIS_ASI_RAW/2021/11/04/atha_themis02/ut09/20211104_0959_atha_themis02_full.pgm.gz')],\n",
      " 'output_root_path': '/home/darrenc/pyaurorax_data/THEMIS_ASI_RAW',\n",
      " 'total_bytes': 127920163}\n"
     ]
    }
   ],
   "source": [
    "# view information about the downloaded data\n",
    "print(r)\n",
    "print()\n",
    "\n",
    "pprint.pprint(r.__dict__)"
   ]
  },
  {
   "cell_type": "markdown",
   "id": "f815d200",
   "metadata": {},
   "source": [
    "By default, PyAuroraX will save data to the `aurorax.download_output_root_path` variable, which is your home directory. If you want to change this, you can edit this attribute like so:\n",
    "\n",
    "```python\n",
    "aurorax.download_output_root_path = \"some other path\"\n",
    "```"
   ]
  },
  {
   "cell_type": "markdown",
   "id": "09285d22",
   "metadata": {},
   "source": [
    "## Read the data\n",
    "\n",
    "The data reading routines simply take in a list of filenames on your computer. The list of files is returned in a `download()` call, but can also be created using `glob` or similar by just searching on your computer for the filenames manually.\n",
    "\n",
    "There are two methods available for reading data:\n",
    "\n",
    "1) using the generic method (most common)\n",
    "2) using a specific dataset read function\n",
    "\n",
    "The generic method is the easiest and most common way. If more control is wanted, you can use the specific read functions directly. The generic method simply uses the dataset name to determine which specific read function to use; there are no other differences.\n"
   ]
  },
  {
   "cell_type": "code",
   "execution_count": 22,
   "id": "67488383",
   "metadata": {},
   "outputs": [
    {
     "name": "stdout",
     "output_type": "stream",
     "text": [
      "Data(data=array(dims=(256, 256, 1200), dtype=uint16), timestamp=[1200 datetimes], metadata=[1200 dictionaries], problematic_files=[], calibrated_data=None, dataset=Dataset(name=THEMIS_ASI_RAW, short_description='THEMIS All Sky Imagers 3-se...))\n",
      "\n",
      "Data:\n",
      "  data                  : array(dims=(256, 256, 1200), dtype=uint16)\n",
      "  timestamp             : [1200 datetimes]\n",
      "  metadata              : [1200 dictionaries]\n",
      "  problematic_files     : []\n",
      "  calibrated_data       : None\n",
      "  dataset               : Dataset(name=THEMIS_ASI_RAW, short_description='THEMIS All Sky Imagers 3-se...)\n"
     ]
    }
   ],
   "source": [
    "# let's show the generic method first, since it is the easiest way\n",
    "#\n",
    "# a Data object is returned\n",
    "data = aurorax.data.ucalgary.read(r.dataset, r.filenames, n_parallel=2)\n",
    "\n",
    "print(data)\n",
    "print()\n",
    "\n",
    "# Data objects have a print function to nicely view the information in it. You'll \n",
    "# find that many classes in PyAuroraX have this pretty_print() function to help view \n",
    "# the information. It can be handy at times.\n",
    "data.pretty_print()"
   ]
  },
  {
   "cell_type": "markdown",
   "id": "6b0d5993",
   "metadata": {},
   "source": [
    "Now let's show the second method, whereby we use the specific read routine. We know that the data we're reading is THEMIS raw data, so we'll use the `read_themis()` function."
   ]
  },
  {
   "cell_type": "code",
   "execution_count": 23,
   "id": "7da0f778",
   "metadata": {},
   "outputs": [
    {
     "name": "stdout",
     "output_type": "stream",
     "text": [
      "Data(data=array(dims=(256, 256, 1200), dtype=uint16), timestamp=[1200 datetimes], metadata=[1200 dictionaries], problematic_files=[], calibrated_data=None, dataset=Dataset(name=THEMIS_ASI_RAW, short_description='THEMIS All Sky Imagers 3-se...))\n",
      "\n",
      "Data:\n",
      "  data                  : array(dims=(256, 256, 1200), dtype=uint16)\n",
      "  timestamp             : [1200 datetimes]\n",
      "  metadata              : [1200 dictionaries]\n",
      "  problematic_files     : []\n",
      "  calibrated_data       : None\n",
      "  dataset               : Dataset(name=THEMIS_ASI_RAW, short_description='THEMIS All Sky Imagers 3-se...)\n"
     ]
    }
   ],
   "source": [
    "# since we know we're reading in THEMIS raw data, we can also use the specific read routine. In most\n",
    "# circumstances, this method isn't necessary to use.\n",
    "data = aurorax.data.ucalgary.readers.read_themis(r.filenames, n_parallel=2, dataset=r.dataset)\n",
    "\n",
    "print(data)\n",
    "print()\n",
    "\n",
    "data.pretty_print()"
   ]
  },
  {
   "cell_type": "markdown",
   "id": "b22e027a",
   "metadata": {},
   "source": [
    "## Managing downloaded data\n",
    "\n",
    "There are also a few functions available to help manage the downloaded data. We can see the local disk usage, and can clean it out if it's getting too big."
   ]
  },
  {
   "cell_type": "code",
   "execution_count": 24,
   "id": "910b31e1",
   "metadata": {},
   "outputs": [
    {
     "name": "stdout",
     "output_type": "stream",
     "text": [
      "Dataset name                        Size     \n",
      "=============================================\n",
      "THEMIS_ASI_RAW                      253.6 MB \n",
      "THEMIS_ASI_SKYMAP_IDLSAV            7.1 MB   \n",
      "REGO_RAW                            5.5 MB   \n",
      "REGO_CALIBRATION_FLATFIELD_IDLSAV   1.4 MB   \n",
      "REGO_CALIBRATION_RAYLEIGHS_IDLSAV   443 Bytes\n",
      "\n",
      "Total size: 267.7 MB\n"
     ]
    }
   ],
   "source": [
    "# to view the amount of data that is currently downloaded, do the following\n",
    "aurorax.show_data_usage()"
   ]
  },
  {
   "cell_type": "code",
   "execution_count": 25,
   "id": "275d809f",
   "metadata": {},
   "outputs": [
    {
     "name": "stdout",
     "output_type": "stream",
     "text": [
      "{'REGO_CALIBRATION_FLATFIELD_IDLSAV': {'path_obj': PosixPath('/home/darrenc/pyaurorax_data/REGO_CALIBRATION_FLATFIELD_IDLSAV'),\n",
      "                                       'size_bytes': 1425416,\n",
      "                                       'size_str': '1.4 MB'},\n",
      " 'REGO_CALIBRATION_RAYLEIGHS_IDLSAV': {'path_obj': PosixPath('/home/darrenc/pyaurorax_data/REGO_CALIBRATION_RAYLEIGHS_IDLSAV'),\n",
      "                                       'size_bytes': 443,\n",
      "                                       'size_str': '443 Bytes'},\n",
      " 'REGO_RAW': {'path_obj': PosixPath('/home/darrenc/pyaurorax_data/REGO_RAW'),\n",
      "              'size_bytes': 5528318,\n",
      "              'size_str': '5.5 MB'},\n",
      " 'THEMIS_ASI_RAW': {'path_obj': PosixPath('/home/darrenc/pyaurorax_data/THEMIS_ASI_RAW'),\n",
      "                    'size_bytes': 253634069,\n",
      "                    'size_str': '253.6 MB'},\n",
      " 'THEMIS_ASI_SKYMAP_IDLSAV': {'path_obj': PosixPath('/home/darrenc/pyaurorax_data/THEMIS_ASI_SKYMAP_IDLSAV'),\n",
      "                              'size_bytes': 7078784,\n",
      "                              'size_str': '7.1 MB'}}\n"
     ]
    }
   ],
   "source": [
    "# alternatively, you can get the data usage information returned as a dictionary\n",
    "data_usage_dict = aurorax.show_data_usage(return_dict=True)\n",
    "\n",
    "pprint.pprint(data_usage_dict)"
   ]
  },
  {
   "cell_type": "markdown",
   "id": "11a9d8b5",
   "metadata": {},
   "source": [
    "To clean up all data we've downloaded, you can do:\n",
    "\n",
    "```python\n",
    "aurorax.purge_download_output_root_path()\n",
    "```\n",
    "\n",
    "Alternatively, you can manually delete data yourself. They're just regular files on your computer, so very easy to manage."
   ]
  },
  {
   "cell_type": "markdown",
   "id": "89ac0516",
   "metadata": {},
   "source": [
    "## Skymaps\n",
    "\n",
    "Skymap files are used for projecting ASI image data on a map. More information about why this is important can be found in the other crib sheets."
   ]
  },
  {
   "cell_type": "code",
   "execution_count": 26,
   "id": "2b32692a",
   "metadata": {},
   "outputs": [
    {
     "name": "stdout",
     "output_type": "stream",
     "text": [
      "Name                       Provider   Level   DOI Details                                               Short Description                                          \n",
      "===================================================================================================================================================================\n",
      "REGO_SKYMAP_IDLSAV         UCalgary   L3      https://commons.datacite.org/doi.org/10.11575/z7x6-5c42   REGO All Sky Imagers skymap data (IDL save format)         \n",
      "THEMIS_ASI_SKYMAP_IDLSAV   UCalgary   L3      None                                                      THEMIS All Sky Imagers skymap data (IDL save format)       \n",
      "TREX_BLUE_SKYMAP_IDLSAV    UCalgary   L3      https://commons.datacite.org/doi.org/10.11575/80pf-0p02   TREx Blueline All Sky Imagers skymap data (IDL save format)\n",
      "TREX_NIR_SKYMAP_IDLSAV     UCalgary   L3      https://commons.datacite.org/doi.org/10.11575/98w7-jp47   TREx NIR All Sky Imagers skymap data (IDL save format)     \n",
      "TREX_RGB_SKYMAP_IDLSAV     UCalgary   L3      https://commons.datacite.org/doi.org/10.11575/4p8e-1k65   TREx RGB All Sky Imagers skymap data (IDL save format)     \n"
     ]
    }
   ],
   "source": [
    "# search datasets for skymaps\n",
    "aurorax.data.list_datasets_in_table(name=\"SKYMAP\")"
   ]
  },
  {
   "cell_type": "code",
   "execution_count": 27,
   "id": "a5067571",
   "metadata": {},
   "outputs": [],
   "source": [
    "# we'll set our dataset for use later\n",
    "dataset = aurorax.data.list_datasets(name=\"THEMIS_ASI_SKYMAP_IDLSAV\")[0]"
   ]
  },
  {
   "cell_type": "markdown",
   "id": "8482f2ec",
   "metadata": {},
   "source": [
    "When selecting a skymap to use for projecting an image on a map, we have two methods available to us:\n",
    "\n",
    "1) choosing manually\n",
    "2) using the `find_best_skymap()` function to choose automatically\n",
    "\n",
    "Skymaps are generated for each site, and for a given time period. It is important to choose a skymap that is valid for the date you're looking at data for, otherwise the image may not appear accurately when projected on a map."
   ]
  },
  {
   "cell_type": "markdown",
   "id": "46d62e3b",
   "metadata": {},
   "source": [
    "### Choosing a skymap manually"
   ]
  },
  {
   "cell_type": "code",
   "execution_count": 28,
   "id": "e310435d",
   "metadata": {},
   "outputs": [
    {
     "data": {
      "application/vnd.jupyter.widget-view+json": {
       "model_id": "65ff997f2ece4a18b9797760f7d42326",
       "version_major": 2,
       "version_minor": 0
      },
      "text/plain": [
       "Downloading THEMIS_ASI_SKYMAP_IDLSAV files:   0%|          | 0.00/7.08M [00:00<?, ?B/s]"
      ]
     },
     "metadata": {},
     "output_type": "display_data"
    },
    {
     "data": {
      "text/plain": [
       "[PosixPath('/home/darrenc/pyaurorax_data/THEMIS_ASI_SKYMAP_IDLSAV/gill/gill_20210308/themis_skymap_gill_20210308-+_v02.sav'),\n",
       " PosixPath('/home/darrenc/pyaurorax_data/THEMIS_ASI_SKYMAP_IDLSAV/gill/gill_20220301/themis_skymap_gill_20220301-+_v02.sav')]"
      ]
     },
     "execution_count": 28,
     "metadata": {},
     "output_type": "execute_result"
    }
   ],
   "source": [
    "# First, let's choose the skymap we want manually. Let's assume we are working on data\n",
    "# from the Gillam THEMIS ASI on 2021-11-04.\n",
    "#\n",
    "# We'll download the skymaps for a few years around that time, and then we'll choose which one we want after\n",
    "r = aurorax.data.ucalgary.download(\n",
    "    \"THEMIS_ASI_SKYMAP_IDLSAV\",\n",
    "    datetime.datetime(2021, 1, 1, 0, 0),\n",
    "    datetime.datetime(2023, 1, 1, 0, 0),\n",
    "    site_uid=\"gill\",\n",
    ")\n",
    "r.filenames"
   ]
  },
  {
   "cell_type": "markdown",
   "id": "cef3ecc0",
   "metadata": {},
   "source": [
    "Looks like we have a couple skymaps to choose from around 2021-11-04. We'll choose the first one since the date for it is before, and the second one's date is after. \n",
    "\n",
    "The date indicates the first date it is valid for. There are some cases where a later or earlier skymap can be used. That is a situation where you can play around and try different skymaps, looking for which one works best for you. Most skymaps have small differences, but some have large ones that you'll notice very quickly when working with the projected data on a map.\n"
   ]
  },
  {
   "cell_type": "code",
   "execution_count": 29,
   "id": "08b10e83",
   "metadata": {},
   "outputs": [
    {
     "name": "stdout",
     "output_type": "stream",
     "text": [
      "Data(data=[1 Skymap object], timestamp=[], metadata=[], problematic_files=[], calibrated_data=None, dataset=Dataset(name=THEMIS_ASI_SKYMAP_IDLSAV, short_description='THEMIS All Sky Im...))\n",
      "\n",
      "Data:\n",
      "  data                  : [1 Skymap object]\n",
      "  timestamp             : []\n",
      "  metadata              : []\n",
      "  problematic_files     : []\n",
      "  calibrated_data       : None\n",
      "  dataset               : Dataset(name=THEMIS_ASI_SKYMAP_IDLSAV, short_description='THEMIS All Sky Im...)\n",
      "\n",
      "Skymap:\n",
      "  filename               : /home/darrenc/pyaurorax_data/THEMIS_ASI_SKYMAP_IDLSAV/gill/gill_20210308/themis_skymap_gill_20210308-+_v02.sav\n",
      "  full_azimuth           : array(dims=(256, 256), dtype=>f4)\n",
      "  full_elevation         : array(dims=(256, 256), dtype=>f4)\n",
      "  full_map_altitude      : array(dims=(3,), dtype=>f4)\n",
      "  full_map_latitude      : array(dims=(3, 257, 257), dtype=>f4)\n",
      "  full_map_longitude     : array(dims=(3, 257, 257), dtype=>f4)\n",
      "  generation_info        : SkymapGenerationInfo(...)\n",
      "  get_precalculated_altitudes: <bound method Skymap.get_precalculated_altitudes of Skymap(project_uid=themis, site_uid=gill, imager_uid=themis19, site_map_latitude=56.376724, site_map_longitude=265.356323, ...)>\n",
      "  imager_uid             : themis19\n",
      "  project_uid            : themis\n",
      "  site_map_altitude      : 0.0\n",
      "  site_map_latitude      : 56.376724\n",
      "  site_map_longitude     : 265.35632\n",
      "  site_uid               : gill\n",
      "  version                : v02\n"
     ]
    }
   ],
   "source": [
    "# Now that we know which one we'll use, we can read it in.\n",
    "#\n",
    "# You can also read in all of them and choose later using the resulting Data object.\n",
    "skymap_data = aurorax.data.ucalgary.read(dataset, r.filenames[0])\n",
    "\n",
    "print(skymap_data)\n",
    "print()\n",
    "skymap_data.pretty_print()\n",
    "\n",
    "print()\n",
    "skymap_data.data[0].pretty_print()"
   ]
  },
  {
   "cell_type": "markdown",
   "id": "f56ac9c1",
   "metadata": {},
   "source": [
    "### Automatically choosing a skymap\n",
    "\n",
    "You can also let the library choose the skymap for you using the `download_best_skymap()` function."
   ]
  },
  {
   "cell_type": "code",
   "execution_count": 30,
   "id": "aeba2b9e",
   "metadata": {},
   "outputs": [
    {
     "data": {
      "text/plain": [
       "[PosixPath('/home/darrenc/pyaurorax_data/THEMIS_ASI_SKYMAP_IDLSAV/gill/gill_20210308/themis_skymap_gill_20210308-+_v02.sav')]"
      ]
     },
     "execution_count": 30,
     "metadata": {},
     "output_type": "execute_result"
    }
   ],
   "source": [
    "# set params\n",
    "dataset_name = \"THEMIS_ASI_SKYMAP_IDLSAV\"\n",
    "site_uid = \"gill\"\n",
    "dt = datetime.datetime(2021, 11, 4)\n",
    "\n",
    "# get the recommendation\n",
    "r = aurorax.data.ucalgary.download_best_skymap(dataset_name, site_uid, dt)\n",
    "r.filenames\n"
   ]
  },
  {
   "cell_type": "code",
   "execution_count": 31,
   "id": "1d137010",
   "metadata": {},
   "outputs": [
    {
     "name": "stdout",
     "output_type": "stream",
     "text": [
      "Data(data=[1 Skymap object], timestamp=[], metadata=[], problematic_files=[], calibrated_data=None, dataset=Dataset(name=THEMIS_ASI_SKYMAP_IDLSAV, short_description='THEMIS All Sky Im...))\n",
      "\n",
      "Data:\n",
      "  data                  : [1 Skymap object]\n",
      "  timestamp             : []\n",
      "  metadata              : []\n",
      "  problematic_files     : []\n",
      "  calibrated_data       : None\n",
      "  dataset               : Dataset(name=THEMIS_ASI_SKYMAP_IDLSAV, short_description='THEMIS All Sky Im...)\n",
      "\n",
      "Skymap:\n",
      "  filename               : /home/darrenc/pyaurorax_data/THEMIS_ASI_SKYMAP_IDLSAV/gill/gill_20210308/themis_skymap_gill_20210308-+_v02.sav\n",
      "  full_azimuth           : array(dims=(256, 256), dtype=>f4)\n",
      "  full_elevation         : array(dims=(256, 256), dtype=>f4)\n",
      "  full_map_altitude      : array(dims=(3,), dtype=>f4)\n",
      "  full_map_latitude      : array(dims=(3, 257, 257), dtype=>f4)\n",
      "  full_map_longitude     : array(dims=(3, 257, 257), dtype=>f4)\n",
      "  generation_info        : SkymapGenerationInfo(...)\n",
      "  get_precalculated_altitudes: <bound method Skymap.get_precalculated_altitudes of Skymap(project_uid=themis, site_uid=gill, imager_uid=themis19, site_map_latitude=56.376724, site_map_longitude=265.356323, ...)>\n",
      "  imager_uid             : themis19\n",
      "  project_uid            : themis\n",
      "  site_map_altitude      : 0.0\n",
      "  site_map_latitude      : 56.376724\n",
      "  site_map_longitude     : 265.35632\n",
      "  site_uid               : gill\n",
      "  version                : v02\n"
     ]
    }
   ],
   "source": [
    "# now that we have the skymap file, we'll read it\n",
    "skymap_data = aurorax.data.ucalgary.read(dataset, r.filenames)\n",
    "\n",
    "print(skymap_data)\n",
    "print()\n",
    "skymap_data.pretty_print()\n",
    "\n",
    "print()\n",
    "skymap_data.data[0].pretty_print()"
   ]
  },
  {
   "cell_type": "markdown",
   "id": "c35464fa",
   "metadata": {},
   "source": [
    "## Calibration data\n",
    "\n",
    "Calibration data is used for converting data to Rayleighs, or applying corrections such as a flatfield. More information about why this is important can be found in the other crib sheets."
   ]
  },
  {
   "cell_type": "code",
   "execution_count": 20,
   "id": "e95eb22d",
   "metadata": {},
   "outputs": [
    {
     "name": "stdout",
     "output_type": "stream",
     "text": [
      "Name                                     Provider   Level   DOI Details                                               Short Description                                                         \n",
      "================================================================================================================================================================================================\n",
      "REGO_CALIBRATION_FLATFIELD_IDLSAV        UCalgary   L3      https://commons.datacite.org/doi.org/10.11575/z7x6-5c42   REGO All Sky Imagers Flatfield calibration data (IDL save format)         \n",
      "REGO_CALIBRATION_RAYLEIGHS_IDLSAV        UCalgary   L3      https://commons.datacite.org/doi.org/10.11575/z7x6-5c42   REGO All Sky Imagers Rayleighs calibration data (IDL save format)         \n",
      "TREX_BLUE_CALIBRATION_FLATFIELD_IDLSAV   UCalgary   L3      https://commons.datacite.org/doi.org/10.11575/80pf-0p02   TREx Blueline All Sky Imagers Flatfield calibration data (IDL save format)\n",
      "TREX_BLUE_CALIBRATION_RAYLEIGHS_IDLSAV   UCalgary   L3      https://commons.datacite.org/doi.org/10.11575/80pf-0p02   TREx Blueline All Sky Imagers Rayleighs calibration data (IDL save format)\n",
      "TREX_NIR_CALIBRATION_FLATFIELD_IDLSAV    UCalgary   L3      https://commons.datacite.org/doi.org/10.11575/98w7-jp47   TREx NIR All Sky Imagers Flatfield calibration data (IDL save format)     \n",
      "TREX_NIR_CALIBRATION_RAYLEIGHS_IDLSAV    UCalgary   L3      https://commons.datacite.org/doi.org/10.11575/98w7-jp47   TREx NIR All Sky Imagers Rayleighs calibration data (IDL save format)     \n"
     ]
    }
   ],
   "source": [
    "# search datasets for calibrations\n",
    "aurorax.data.list_datasets_in_table(name=\"CALIBRATION\")"
   ]
  },
  {
   "cell_type": "markdown",
   "id": "e68243b3",
   "metadata": {},
   "source": [
    "When selecting calibration files to use for converting ASI image counts to Rayleighs, we have two methods available to us:\n",
    "\n",
    "1) choosing manually\n",
    "2) using the `find_best_flatfield_calibration()` or `find_best_rayleighs_calibration()` function to choose automatically\n",
    "\n",
    "Cameras are calibrated before they are deployed to the field, and after any in-house repairs are performed. There exist flatfield and Rayleighs calibration files, for each specific camera detector. A detector can live at multiple sites thoughout the years of operating the instrument array. Hence, why they are not associated with a specific site at all. We use the data device UID value to know what calibration files to use for the data we're processing."
   ]
  },
  {
   "cell_type": "markdown",
   "id": "593abdcb",
   "metadata": {},
   "source": [
    "### Choosing a calibration file manually"
   ]
  },
  {
   "cell_type": "code",
   "execution_count": 22,
   "id": "b1fb9555",
   "metadata": {},
   "outputs": [
    {
     "name": "stdout",
     "output_type": "stream",
     "text": [
      "/home/darrenc/pyaurorax_data/REGO_RAW/2021/11/04/resu_rego-655/ut06/20211104_0600_resu_rego-655_6300.pgm.gz\n",
      "\n",
      "rego-655\n"
     ]
    }
   ],
   "source": [
    "# download a minute of REGO data\n",
    "dataset_name = \"REGO_RAW\"\n",
    "start_dt = datetime.datetime(2021, 11, 4, 6, 0)\n",
    "end_dt = datetime.datetime(2021, 11, 4, 6, 0)\n",
    "site_uid = \"resu\"\n",
    "r = aurorax.data.ucalgary.download(dataset_name, start_dt, end_dt, site_uid=site_uid, progress_bar_disable=True)\n",
    "\n",
    "# determine the device uid\n",
    "#\n",
    "# you can either inspect the URLs and determine it by the filename, or you can read the\n",
    "# data and inspect the device UID field of the metadata\n",
    "print(r.filenames[0])\n",
    "print()\n",
    "\n",
    "data = aurorax.data.ucalgary.read(r.dataset, r.filenames)\n",
    "print(data.metadata[0][\"Imager unique ID\"])"
   ]
  },
  {
   "cell_type": "code",
   "execution_count": 23,
   "id": "8a987ef3",
   "metadata": {},
   "outputs": [
    {
     "name": "stdout",
     "output_type": "stream",
     "text": [
      "['https://data.phys.ucalgary.ca/sort_by_project/GO-Canada/REGO/calibration/REGO_Rayleighs_15655_20141002-+_v01.sav']\n",
      "['https://data.phys.ucalgary.ca/sort_by_project/GO-Canada/REGO/calibration/REGO_flatfield_15655_20141002-+_v01.sav']\n"
     ]
    }
   ],
   "source": [
    "# now that we know the device UID we are interested in, we can get a list\n",
    "# of all the flatfield and rayleighs calibration files, and then choose which\n",
    "# one we want to download\n",
    "start_dt = datetime.datetime(2014, 1, 1, 0, 0)\n",
    "end_dt = datetime.datetime.now()\n",
    "device_uid = \"655\"\n",
    "r_rayleighs = aurorax.data.ucalgary.get_urls(\"REGO_CALIBRATION_RAYLEIGHS_IDLSAV\", start_dt, end_dt, device_uid=device_uid)\n",
    "pprint.pprint(r_rayleighs.urls)\n",
    "\n",
    "r_flatfield = aurorax.data.ucalgary.get_urls(\"REGO_CALIBRATION_FLATFIELD_IDLSAV\", start_dt, end_dt, device_uid=device_uid)\n",
    "pprint.pprint(r_flatfield.urls)"
   ]
  },
  {
   "cell_type": "code",
   "execution_count": 24,
   "id": "a537fb05",
   "metadata": {},
   "outputs": [
    {
     "name": "stdout",
     "output_type": "stream",
     "text": [
      "[PosixPath('/home/darrenc/pyaurorax_data/REGO_CALIBRATION_RAYLEIGHS_IDLSAV/REGO_Rayleighs_15655_20141002-+_v01.sav')]\n",
      "[PosixPath('/home/darrenc/pyaurorax_data/REGO_CALIBRATION_FLATFIELD_IDLSAV/REGO_flatfield_15655_20141002-+_v01.sav')]\n"
     ]
    }
   ],
   "source": [
    "# this is simple as there is only one to choose from\n",
    "#\n",
    "# now let's download the data\n",
    "d_rayleighs = aurorax.data.ucalgary.download_using_urls(r_rayleighs, progress_bar_disable=True)\n",
    "d_flatfield = aurorax.data.ucalgary.download_using_urls(r_flatfield, progress_bar_disable=True)\n",
    "\n",
    "print(d_rayleighs.filenames)\n",
    "\n",
    "print(d_flatfield.filenames)"
   ]
  },
  {
   "cell_type": "code",
   "execution_count": 25,
   "id": "89388fe3",
   "metadata": {},
   "outputs": [
    {
     "name": "stdout",
     "output_type": "stream",
     "text": [
      "Data(data=[1 Calibration object], timestamp=[], metadata=[], problematic_files=[], calibrated_data=None, dataset=Dataset(name=REGO_CALIBRATION_RAYLEIGHS_IDLSAV, short_description='REGO All...))\n",
      "Data(data=[1 Calibration object], timestamp=[], metadata=[], problematic_files=[], calibrated_data=None, dataset=Dataset(name=REGO_CALIBRATION_FLATFIELD_IDLSAV, short_description='REGO All...))\n",
      "\n",
      "Calibration:\n",
      "  dataset                       : Dataset(...)\n",
      "  detector_uid                  : 15655\n",
      "  filename                      : /home/darrenc/pyaurorax_data/REGO_CALIBRATION_RAYLEIGHS_IDLSAV/REGO_Rayleighs_15655_20141002-+_v01.sav\n",
      "  flat_field_multiplier         : None\n",
      "  generation_info               : CalibrationGenerationInfo(...)\n",
      "  rayleighs_perdn_persecond     : 10.399999618530273\n",
      "  version                       : v01\n",
      "\n",
      "Calibration:\n",
      "  dataset                       : Dataset(...)\n",
      "  detector_uid                  : 15655\n",
      "  filename                      : /home/darrenc/pyaurorax_data/REGO_CALIBRATION_FLATFIELD_IDLSAV/REGO_flatfield_15655_20141002-+_v01.sav\n",
      "  flat_field_multiplier         : array(dims=(512, 512), dtype=>f8)\n",
      "  generation_info               : CalibrationGenerationInfo(...)\n",
      "  rayleighs_perdn_persecond     : None\n",
      "  version                       : v01\n"
     ]
    }
   ],
   "source": [
    "# now that we have the calibration files, we'll read them\n",
    "cal_rayleighs_data = aurorax.data.ucalgary.read(d_rayleighs.dataset, d_rayleighs.filenames)\n",
    "cal_flatfield_data = aurorax.data.ucalgary.read(d_flatfield.dataset, d_flatfield.filenames)\n",
    "\n",
    "print(cal_rayleighs_data)\n",
    "print(cal_flatfield_data)\n",
    "print()\n",
    "\n",
    "cal_rayleighs_data.data[0].pretty_print()\n",
    "print()\n",
    "cal_flatfield_data.data[0].pretty_print()\n"
   ]
  },
  {
   "cell_type": "markdown",
   "id": "e2f17a6c",
   "metadata": {},
   "source": [
    "### Automatically choosing a calibration file\n",
    "\n",
    "You can also let the library choose the calibration for you using the `download_best_flatfield_calibration()` and `download_best_rayleighs_calibration()` functions."
   ]
  },
  {
   "cell_type": "code",
   "execution_count": 26,
   "id": "961b1c56",
   "metadata": {},
   "outputs": [
    {
     "name": "stdout",
     "output_type": "stream",
     "text": [
      "[PosixPath('/home/darrenc/pyaurorax_data/REGO_CALIBRATION_RAYLEIGHS_IDLSAV/REGO_Rayleighs_15654_20210806-+_v02.sav')]\n",
      "[PosixPath('/home/darrenc/pyaurorax_data/REGO_CALIBRATION_FLATFIELD_IDLSAV/REGO_flatfield_15654_20210806-+_v02.sav')]\n"
     ]
    }
   ],
   "source": [
    "# set params\n",
    "device_uid = \"654\"\n",
    "dt = datetime.datetime(2021, 11, 4)\n",
    "\n",
    "# get the recommendations\n",
    "r_rayleighs = aurorax.data.ucalgary.download_best_rayleighs_calibration(\"REGO_CALIBRATION_RAYLEIGHS_IDLSAV\", device_uid, dt)\n",
    "r_flatfield = aurorax.data.ucalgary.download_best_flatfield_calibration(\"REGO_CALIBRATION_FLATFIELD_IDLSAV\", device_uid, dt)\n",
    "\n",
    "# show results\n",
    "print(r_rayleighs.filenames)\n",
    "print(r_flatfield.filenames)"
   ]
  },
  {
   "cell_type": "code",
   "execution_count": 27,
   "id": "215d8c64",
   "metadata": {},
   "outputs": [
    {
     "name": "stdout",
     "output_type": "stream",
     "text": [
      "Calibration:\n",
      "  dataset                       : Dataset(...)\n",
      "  detector_uid                  : 15654\n",
      "  filename                      : /home/darrenc/pyaurorax_data/REGO_CALIBRATION_RAYLEIGHS_IDLSAV/REGO_Rayleighs_15654_20210806-+_v02.sav\n",
      "  flat_field_multiplier         : None\n",
      "  generation_info               : CalibrationGenerationInfo(...)\n",
      "  rayleighs_perdn_persecond     : 10.137431837782506\n",
      "  version                       : v02\n",
      "\n",
      "Calibration:\n",
      "  dataset                       : Dataset(...)\n",
      "  detector_uid                  : 15654\n",
      "  filename                      : /home/darrenc/pyaurorax_data/REGO_CALIBRATION_FLATFIELD_IDLSAV/REGO_flatfield_15654_20210806-+_v02.sav\n",
      "  flat_field_multiplier         : array(dims=(512, 512), dtype=>f8)\n",
      "  generation_info               : CalibrationGenerationInfo(...)\n",
      "  rayleighs_perdn_persecond     : None\n",
      "  version                       : v02\n"
     ]
    }
   ],
   "source": [
    "# now that we have the calibration file, we'll read it\n",
    "cal_rayleighs_data = aurorax.data.ucalgary.read(r_rayleighs.dataset, r_rayleighs.filenames)\n",
    "cal_flatfield_data = aurorax.data.ucalgary.read(r_flatfield.dataset, r_flatfield.filenames)\n",
    "\n",
    "cal_rayleighs_data.data[0].pretty_print()\n",
    "print()\n",
    "cal_flatfield_data.data[0].pretty_print()"
   ]
  },
  {
   "cell_type": "code",
   "execution_count": null,
   "id": "66b62dd7",
   "metadata": {},
   "outputs": [],
   "source": []
  }
 ],
 "metadata": {
  "kernelspec": {
   "display_name": "Python 3 (ipykernel)",
   "language": "python",
   "name": "python3"
  },
  "language_info": {
   "codemirror_mode": {
    "name": "ipython",
    "version": 3
   },
   "file_extension": ".py",
   "mimetype": "text/x-python",
   "name": "python",
   "nbconvert_exporter": "python",
   "pygments_lexer": "ipython3",
   "version": "3.11.9"
  }
 },
 "nbformat": 4,
 "nbformat_minor": 5
}
