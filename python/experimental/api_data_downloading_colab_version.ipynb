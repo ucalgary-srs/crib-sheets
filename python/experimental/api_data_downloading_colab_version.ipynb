{
  "cells": [
    {
      "cell_type": "markdown",
      "id": "cf22ce79-c84b-43d9-bfa0-7801ef5ea613",
      "metadata": {
        "id": "cf22ce79-c84b-43d9-bfa0-7801ef5ea613"
      },
      "source": [
        "**CRIB SHEET RULES OF THE ROAD:**\n",
        "\n",
        "This crib sheet is provided to support access, utilization, and plotting of UCalgary optical datasets. It is intended as a base set of code that a user may edit and manipulate to serve their own needs.  Crib sheets contain UCalgary verified and validated procedures for plotting and manipulating UCalgary ASI data for common use cases.  Use of this crib sheet does not require acknowledgment, it is freely distributed for personal scientific use. The crib sheet (or elements of the crib sheet) must not be ingested into third party libraries without written consent of the UCalgary team. Please also remember to perform due diligence on all data use.  We recommend comparison with verified data products on [data.phys.ucalgary.ca](https://data.phys.ucalgary.ca) to ensure that any user output does not contradict operational summary plots.  Data use must be acknowledged according to the information available for each data set - please see [data.phys.ucalgary.ca](https://data.phys.ucalgary.ca).  If you encounter any issues with the data or the crib sheet, please contact the UCalgary team for support (Emma Spanswick, elspansw@ucalgary.ca). Copyright © University of Calgary."
      ]
    },
    {
      "cell_type": "markdown",
      "id": "ded55fbe-326e-4964-aadc-dd4ea9af3db9",
      "metadata": {
        "id": "ded55fbe-326e-4964-aadc-dd4ea9af3db9"
      },
      "source": [
        "# Downloading data from our archive using the API"
      ]
    },
    {
      "cell_type": "markdown",
      "id": "35209183-611f-4f6c-8771-45744678fbbd",
      "metadata": {
        "id": "35209183-611f-4f6c-8771-45744678fbbd"
      },
      "source": [
        "Data can be downloaded from our archive using an API, in addition to the conventional FTP, Rsync, and other HTTP methods. The API is currently under development and we will do our best to keep this crib sheet up-to-date with the latest changes. If you have any questions, please reach out to the UCalgary Team (Emma Spanswick, elspansw@ucalgary.ca)."
      ]
    },
    {
      "cell_type": "markdown",
      "id": "3690a92b-4c77-4f46-98d1-f760b064b42b",
      "metadata": {
        "id": "3690a92b-4c77-4f46-98d1-f760b064b42b"
      },
      "source": [
        "## Install dependencies"
      ]
    },
    {
      "cell_type": "code",
      "execution_count": 1,
      "id": "fab95aac-767c-40f6-adc6-936ca629aa6c",
      "metadata": {
        "colab": {
          "base_uri": "https://localhost:8080/"
        },
        "id": "fab95aac-767c-40f6-adc6-936ca629aa6c",
        "outputId": "8905006c-9d9f-42aa-e332-7f0b14dc6972"
      },
      "outputs": [
        {
          "name": "stdout",
          "output_type": "stream",
          "text": [
            "Requirement already satisfied: requests in /usr/local/lib/python3.10/dist-packages (2.31.0)\n",
            "Requirement already satisfied: joblib in /usr/local/lib/python3.10/dist-packages (1.3.2)\n",
            "Requirement already satisfied: tqdm in /usr/local/lib/python3.10/dist-packages (4.66.2)\n",
            "Requirement already satisfied: charset-normalizer<4,>=2 in /usr/local/lib/python3.10/dist-packages (from requests) (3.3.2)\n",
            "Requirement already satisfied: idna<4,>=2.5 in /usr/local/lib/python3.10/dist-packages (from requests) (3.6)\n",
            "Requirement already satisfied: urllib3<3,>=1.21.1 in /usr/local/lib/python3.10/dist-packages (from requests) (2.0.7)\n",
            "Requirement already satisfied: certifi>=2017.4.17 in /usr/local/lib/python3.10/dist-packages (from requests) (2024.2.2)\n"
          ]
        }
      ],
      "source": [
        "!pip install requests joblib tqdm"
      ]
    },
    {
      "cell_type": "code",
      "execution_count": 17,
      "id": "8eh_6n79sd3l",
      "metadata": {
        "id": "8eh_6n79sd3l"
      },
      "outputs": [],
      "source": [
        "import os\n",
        "import pprint\n",
        "import requests\n",
        "import joblib\n",
        "from tqdm.notebook import tqdm"
      ]
    },
    {
      "cell_type": "markdown",
      "id": "e1ef2ef8-6c3f-492c-a240-c91ec30d5e83",
      "metadata": {
        "id": "e1ef2ef8-6c3f-492c-a240-c91ec30d5e83"
      },
      "source": [
        "## List available datasets"
      ]
    },
    {
      "cell_type": "code",
      "execution_count": 18,
      "id": "12607196-9b79-4d61-a82b-8a1ada804956",
      "metadata": {
        "colab": {
          "base_uri": "https://localhost:8080/"
        },
        "id": "12607196-9b79-4d61-a82b-8a1ada804956",
        "outputId": "f21c6bc8-a232-4949-95e4-a8d5144bc58a"
      },
      "outputs": [
        {
          "name": "stdout",
          "output_type": "stream",
          "text": [
            "Found 63 datasets, with file listing supported for 10\n",
            "\n",
            "Dataset Name                                 File Listing Supported?\n",
            "---------------------------------------------------------------------------\n",
            "REGO_CALIBRATION_FLATFIELD_IDLSAV            False\n",
            "REGO_CALIBRATION_RAYLEIGHS_IDLSAV            False\n",
            "REGO_SKYMAP_IDLSAV                           False\n",
            "REGO_STREAM0_RAW                             True\n",
            "REGO_STREAM2_DAILY_KEOGRAM_JPG               False\n",
            "REGO_STREAM2_DAILY_KEOGRAM_PGM               False\n",
            "REGO_STREAM2_DAILY_KEOGRAM_PNG               False\n",
            "REGO_STREAM2_DAILY_MONTAGE_JPG               False\n",
            "REGO_STREAM2_DAILY_MONTAGE_PGM               False\n",
            "REGO_STREAM2_DAILY_MONTAGE_PNG               False\n",
            "REGO_STREAM2_HOURLY_KEOGRAM_JPG              False\n",
            "REGO_STREAM2_HOURLY_KEOGRAM_PGM              False\n",
            "REGO_STREAM2_HOURLY_KEOGRAM_PNG              False\n",
            "REGO_STREAM2_HOURLY_MONTAGE_JPG              False\n",
            "REGO_STREAM2_HOURLY_MONTAGE_PGM              False\n",
            "REGO_STREAM2_HOURLY_MONTAGE_PNG              False\n",
            "THEMIS_ASI_SKYMAP_IDLSAV                     False\n",
            "THEMIS_ASI_STREAM0_RAW                       True\n",
            "THEMIS_ASI_STREAM0_RAW_ROW2                  True\n",
            "THEMIS_ASI_STREAM0_RAW_WIDE                  True\n",
            "THEMIS_ASI_STREAM1_THUMB32                   True\n",
            "THEMIS_ASI_STREAM1_VEC1024                   True\n",
            "THEMIS_ASI_STREAM2_DAILY_KEOGRAM_JPG         False\n",
            "THEMIS_ASI_STREAM2_DAILY_KEOGRAM_PGM         False\n",
            "THEMIS_ASI_STREAM2_DAILY_MONTAGE_JPG         False\n",
            "THEMIS_ASI_STREAM2_DAILY_MONTAGE_PGM         False\n",
            "THEMIS_ASI_STREAM2_HOURLY_AVERAGE_JPG        False\n",
            "THEMIS_ASI_STREAM2_HOURLY_AVERAGE_PGM        False\n",
            "THEMIS_ASI_STREAM2_HOURLY_KEOGRAM_JPG        False\n",
            "THEMIS_ASI_STREAM2_HOURLY_KEOGRAM_PGM        False\n",
            "THEMIS_ASI_STREAM2_HOURLY_MONTAGE_JPG        False\n",
            "THEMIS_ASI_STREAM2_HOURLY_MONTAGE_PGM        False\n",
            "THEMIS_ASI_STREAM3_FILE_INFO                 False\n",
            "THEMIS_ASI_STREAM3_FRAME_INFO                False\n",
            "TREX_BLUE_DAILY_KEOGRAM_JPG                  False\n",
            "TREX_BLUE_DAILY_KEOGRAM_PGM                  False\n",
            "TREX_BLUE_DAILY_MONTAGE_JPG                  False\n",
            "TREX_BLUE_DAILY_MONTAGE_PGM                  False\n",
            "TREX_BLUE_HOURLY_KEOGRAM_JPG                 False\n",
            "TREX_BLUE_HOURLY_KEOGRAM_PGM                 False\n",
            "TREX_BLUE_HOURLY_MONTAGE_JPG                 False\n",
            "TREX_BLUE_HOURLY_MONTAGE_PGM                 False\n",
            "TREX_BLUE_SKYMAP_IDLSAV                      False\n",
            "TREX_BLUE_STREAM0_RAW                        True\n",
            "TREX_NIR_CALIBRATION_FLATFIELD_IDLSAV        False\n",
            "TREX_NIR_CALIBRATION_RAYLEIGHS_IDLSAV        False\n",
            "TREX_NIR_DAILY_KEOGRAM_JPG                   False\n",
            "TREX_NIR_DAILY_KEOGRAM_PGM                   False\n",
            "TREX_NIR_DAILY_MONTAGE_JPG                   False\n",
            "TREX_NIR_DAILY_MONTAGE_PGM                   False\n",
            "TREX_NIR_HOURLY_KEOGRAM_JPG                  False\n",
            "TREX_NIR_HOURLY_KEOGRAM_PGM                  False\n",
            "TREX_NIR_HOURLY_MONTAGE_JPG                  False\n",
            "TREX_NIR_HOURLY_MONTAGE_PGM                  False\n",
            "TREX_NIR_SKYMAP_IDLSAV                       False\n",
            "TREX_NIR_STREAM0_RAW                         True\n",
            "TREX_RGB_DAILY_KEOGRAM                       False\n",
            "TREX_RGB_DAILY_MONTAGE                       False\n",
            "TREX_RGB_HOURLY_KEOGRAM                      False\n",
            "TREX_RGB_HOURLY_MONTAGE                      False\n",
            "TREX_RGB_SKYMAP_IDLSAV                       False\n",
            "TREX_RGB_STREAM0_BURST                       True\n",
            "TREX_RGB_STREAM0_RAW                         True\n"
          ]
        }
      ],
      "source": [
        "def list_datasets():\n",
        "    r = requests.get(\"https://api.phys.ucalgary.ca/api/v1/data_distribution/datasets\")\n",
        "    datasets = r.json()\n",
        "    return datasets\n",
        "\n",
        "# extract specific information about the datasets that we want to show\n",
        "datasets = list_datasets()\n",
        "total = len(datasets)\n",
        "file_listing_supported = []\n",
        "for d in datasets:\n",
        "    if (d[\"file_listing_supported\"] is True):\n",
        "        file_listing_supported.append(d)\n",
        "\n",
        "# show a listing of the datasets\n",
        "print(\"Found %d datasets, with file listing supported for %d\\n\" % (len(datasets), len(file_listing_supported)))\n",
        "print(\"%-45s%s\\n%s\" % (\"Dataset Name\", \"File Listing Supported?\", '-'*75))\n",
        "for d in datasets:\n",
        "    print(\"%-45s%s\" % (d[\"name\"], d[\"file_listing_supported\"]))\n",
        "\n",
        "#--------------------------------\n",
        "# You'll notice that not all of our datasets are currently available, and even fewer\n",
        "# support file listing support. As we continue our development of the API, more will\n",
        "# be added, and more file listing supported will be enabled. The output seen above will\n",
        "# change over the coming months."
      ]
    },
    {
      "cell_type": "code",
      "execution_count": 12,
      "id": "1ff816e9-1c7f-413a-b262-b22ee3fb01ab",
      "metadata": {
        "colab": {
          "base_uri": "https://localhost:8080/"
        },
        "id": "1ff816e9-1c7f-413a-b262-b22ee3fb01ab",
        "outputId": "6cf074e1-b55c-40ff-a3d7-6dd78adfc16c"
      },
      "outputs": [
        {
          "name": "stdout",
          "output_type": "stream",
          "text": [
            "{'citation': 'Spanswick, E., & Donovan, E. (2014). Redline Geospace '\n",
            "             'Observatory (REGO) dataset [Data set]. University of Calgary. '\n",
            "             'https://doi.org/10.11575/Z7X6-5C42',\n",
            " 'data_tree_url': 'https://data.phys.ucalgary.ca/sort_by_project/GO-Canada/REGO/stream0',\n",
            " 'doi': 'https://doi.org/10.11575/Z7X6-5C42',\n",
            " 'doi_details': 'https://commons.datacite.org/doi.org/10.11575/z7x6-5c42',\n",
            " 'file_listing_supported': True,\n",
            " 'long_description': 'Redline Geospace Observatory (REGO) All Sky Imager '\n",
            "                     'array. More information can be found at '\n",
            "                     'https://data.phys.ucalgary.ca',\n",
            " 'name': 'REGO_STREAM0_RAW',\n",
            " 'short_description': 'REGO All Sky Imagers 3-sec raw data'}\n"
          ]
        }
      ],
      "source": [
        "# a 'dataset' also contains additional information including a\n",
        "# description, link to the data tree, and citation details.\n",
        "#\n",
        "# let's view one of the records\n",
        "pprint.pprint(datasets[3])"
      ]
    },
    {
      "cell_type": "markdown",
      "id": "e4abe0d1-dc99-410b-a6db-8e266724e33c",
      "metadata": {
        "id": "e4abe0d1-dc99-410b-a6db-8e266724e33c"
      },
      "source": [
        "## Retrieve list of URLs of data files\n",
        "\n",
        "Now we're going to use the API to retrieve URLs for an hour of THEMIS ASI data at Gillam. Later on, we'll use the URLs to quickly download them."
      ]
    },
    {
      "cell_type": "code",
      "execution_count": 13,
      "id": "640632af-c970-41e8-b076-ef3d4afc4b7f",
      "metadata": {
        "colab": {
          "base_uri": "https://localhost:8080/"
        },
        "id": "640632af-c970-41e8-b076-ef3d4afc4b7f",
        "outputId": "30668e31-9eb9-444b-aea7-3617bee38bc2"
      },
      "outputs": [
        {
          "name": "stdout",
          "output_type": "stream",
          "text": [
            "Found 60 URLs, showing first 10\n",
            "\n",
            "['https://data.phys.ucalgary.ca/sort_by_project/THEMIS/asi/stream0/2022/01/01/gill_themis19/ut06/20220101_0600_gill_themis19_full.pgm.gz',\n",
            " 'https://data.phys.ucalgary.ca/sort_by_project/THEMIS/asi/stream0/2022/01/01/gill_themis19/ut06/20220101_0601_gill_themis19_full.pgm.gz',\n",
            " 'https://data.phys.ucalgary.ca/sort_by_project/THEMIS/asi/stream0/2022/01/01/gill_themis19/ut06/20220101_0602_gill_themis19_full.pgm.gz',\n",
            " 'https://data.phys.ucalgary.ca/sort_by_project/THEMIS/asi/stream0/2022/01/01/gill_themis19/ut06/20220101_0603_gill_themis19_full.pgm.gz',\n",
            " 'https://data.phys.ucalgary.ca/sort_by_project/THEMIS/asi/stream0/2022/01/01/gill_themis19/ut06/20220101_0604_gill_themis19_full.pgm.gz',\n",
            " 'https://data.phys.ucalgary.ca/sort_by_project/THEMIS/asi/stream0/2022/01/01/gill_themis19/ut06/20220101_0605_gill_themis19_full.pgm.gz',\n",
            " 'https://data.phys.ucalgary.ca/sort_by_project/THEMIS/asi/stream0/2022/01/01/gill_themis19/ut06/20220101_0606_gill_themis19_full.pgm.gz',\n",
            " 'https://data.phys.ucalgary.ca/sort_by_project/THEMIS/asi/stream0/2022/01/01/gill_themis19/ut06/20220101_0607_gill_themis19_full.pgm.gz',\n",
            " 'https://data.phys.ucalgary.ca/sort_by_project/THEMIS/asi/stream0/2022/01/01/gill_themis19/ut06/20220101_0608_gill_themis19_full.pgm.gz',\n",
            " 'https://data.phys.ucalgary.ca/sort_by_project/THEMIS/asi/stream0/2022/01/01/gill_themis19/ut06/20220101_0609_gill_themis19_full.pgm.gz']\n",
            "...\n"
          ]
        }
      ],
      "source": [
        "# get dataset details we're interested in\n",
        "dataset_name = \"THEMIS_ASI_RAW\"\n",
        "for d in datasets:\n",
        "    if (d[\"name\"] == dataset_name):\n",
        "        dataset = d\n",
        "def get_data_urls(dataset_name, start, end, site_uid):\n",
        "    params = {\"name\": dataset_name, \"start\": start, \"end\": end, \"site_uid\": site_uid, \"include_total_bytes\": True}\n",
        "    r = requests.get(\"https://api.phys.ucalgary.ca/api/v1/data_distribution/urls\", params=params)\n",
        "    data = r.json()\n",
        "    return data\n",
        "\n",
        "# set up API request\n",
        "start = \"2022-01-01T06:00\"\n",
        "end = \"2022-01-01T06:59\"\n",
        "site_uid = \"gill\"\n",
        "data = get_data_urls(dataset_name, start, end, site_uid)\n",
        "print(\"Found %d URLs, showing first 10\\n\" % (len(data[\"urls\"])))\n",
        "pprint.pprint(data[\"urls\"][0:10])\n",
        "print(\"...\")"
      ]
    },
    {
      "cell_type": "markdown",
      "id": "f70e3013-c1ff-49a7-a413-d4abbe77e497",
      "metadata": {
        "id": "f70e3013-c1ff-49a7-a413-d4abbe77e497"
      },
      "source": [
        "## Download the data\n",
        "\n",
        "Now that we have the URLs, we will download them. We'll utilize joblib and tqdm to download multiple files in parallel, and show us a progress bar. These are nice additions, but not necessary.\n",
        "\n",
        "NOTE: it is good practice to maintain the data tree while saving files to your computer. This helps you easily use the other data download methods (like Rsync or FTP), and also is good data management. Doing the easy approach and placing all files into a single directory can quickly get out of control due to the amount of data in our archive. We have over a billion files!"
      ]
    },
    {
      "cell_type": "code",
      "execution_count": 14,
      "id": "OcU_MbGgr6b8",
      "metadata": {
        "id": "OcU_MbGgr6b8"
      },
      "outputs": [],
      "source": [
        "# set the top-level output path we want to save the files to\n",
        "#\n",
        "# NOTE: This crib sheet assumes you're using Google Colab. Change as needed.\n",
        "output_base_path = \"/content/ucalgary_data/%s\" % (dataset_name)"
      ]
    },
    {
      "cell_type": "code",
      "execution_count": 21,
      "id": "e82a9dee-a39b-4559-8d1c-15f8f6ca5370",
      "metadata": {
        "colab": {
          "base_uri": "https://localhost:8080/",
          "height": 84,
          "referenced_widgets": [
            "787d794b13dc44e98f992988efca9a67",
            "9e04d158c95c4d06a44ea878a78c4c2b",
            "10f5413cc3ed4f1796a1a143e36efbe3",
            "d266fb3b91394b29b73eb292d021651e",
            "230ce9e9186c435c9016b996065b350c",
            "2a5ec850b08e4b79a5103e613caeb35e",
            "e2fdf39bab624435aae83e0e621273d8",
            "b331e62f38724e92b5a1d43c6a81fb18",
            "6338d4c11ace489484b0b24f45a665b7",
            "485d8e9d9d2a4d25840df963d1408abb",
            "bf3b79abccd3465dbb822890e9d5d57a"
          ]
        },
        "id": "e82a9dee-a39b-4559-8d1c-15f8f6ca5370",
        "outputId": "dbd62a63-5aa4-400a-d920-37da7788a280"
      },
      "outputs": [
        {
          "data": {
            "application/vnd.jupyter.widget-view+json": {
              "model_id": "787d794b13dc44e98f992988efca9a67",
              "version_major": 2,
              "version_minor": 0
            },
            "text/plain": [
              "Downloading and saving files to disk:   0%|          | 0/60 [00:00<?, ?it/s]"
            ]
          },
          "metadata": {},
          "output_type": "display_data"
        },
        {
          "name": "stdout",
          "output_type": "stream",
          "text": [
            "\n",
            "Data saved to /content/ucalgary_data/THEMIS_ASI_STREAM0_RAW\n"
          ]
        }
      ],
      "source": [
        "def download_url(url, prefix, output_base_path, overwrite=False, pbar=None):\n",
        "    # set output filename\n",
        "    output_filename = \"%s/%s\" % (output_base_path, url.removeprefix(prefix))\n",
        "    if (overwrite is False and os.path.exists(output_filename)):\n",
        "        if (pbar is not None):\n",
        "            pbar.update()\n",
        "        return\n",
        "\n",
        "    # create destination directory\n",
        "    try:\n",
        "        os.makedirs(os.path.dirname(output_filename), exist_ok=True)\n",
        "    except Exception:\n",
        "        # NOTE: sometimes when making directories in parallel there are race conditions. We put\n",
        "        # in a catch here and carry on if there are ever issues.\n",
        "        pass\n",
        "\n",
        "    # retrieve file and save to disk\n",
        "    r = requests.get(url)\n",
        "    with open(output_filename, 'wb') as fp:\n",
        "        fp.write(r.content)\n",
        "\n",
        "    # advance progress bar\n",
        "    if (pbar is not None):\n",
        "        pbar.update()\n",
        "\n",
        "def download_urls(dataset, urls, output_base_path, n_parallel=5, overwrite=False):\n",
        "    prefix_to_strip = dataset[\"data_tree_url\"]\n",
        "    with tqdm(total=len(urls), desc=\"Downloading and saving files to disk\") as pbar:\n",
        "        joblib.Parallel(n_jobs=n_parallel, prefer=\"threads\")(\n",
        "            joblib.delayed(download_url)(\n",
        "                urls[i],\n",
        "                prefix_to_strip,\n",
        "                output_base_path,\n",
        "                overwrite=overwrite,\n",
        "                pbar=pbar,\n",
        "            ) for i in range(0, len(urls))\n",
        "        )\n",
        "    print(\"\\nData saved to %s\" % (output_base_path))\n",
        "\n",
        "# download the data\n",
        "download_urls(dataset, data[\"urls\"], output_base_path)"
      ]
    },
    {
      "cell_type": "code",
      "execution_count": null,
      "id": "4eLo82Vrtqvw",
      "metadata": {
        "id": "4eLo82Vrtqvw"
      },
      "outputs": [],
      "source": []
    }
  ],
  "metadata": {
    "colab": {
      "provenance": []
    },
    "kernelspec": {
      "display_name": "Python 3 (ipykernel)",
      "language": "python",
      "name": "python3"
    },
    "language_info": {
      "codemirror_mode": {
        "name": "ipython",
        "version": 3
      },
      "file_extension": ".py",
      "mimetype": "text/x-python",
      "name": "python",
      "nbconvert_exporter": "python",
      "pygments_lexer": "ipython3",
      "version": "3.9.16"
    },
    "widgets": {
      "application/vnd.jupyter.widget-state+json": {
        "10f5413cc3ed4f1796a1a143e36efbe3": {
          "model_module": "@jupyter-widgets/controls",
          "model_module_version": "1.5.0",
          "model_name": "FloatProgressModel",
          "state": {
            "_dom_classes": [],
            "_model_module": "@jupyter-widgets/controls",
            "_model_module_version": "1.5.0",
            "_model_name": "FloatProgressModel",
            "_view_count": null,
            "_view_module": "@jupyter-widgets/controls",
            "_view_module_version": "1.5.0",
            "_view_name": "ProgressView",
            "bar_style": "success",
            "description": "",
            "description_tooltip": null,
            "layout": "IPY_MODEL_b331e62f38724e92b5a1d43c6a81fb18",
            "max": 60,
            "min": 0,
            "orientation": "horizontal",
            "style": "IPY_MODEL_6338d4c11ace489484b0b24f45a665b7",
            "value": 60
          }
        },
        "230ce9e9186c435c9016b996065b350c": {
          "model_module": "@jupyter-widgets/base",
          "model_module_version": "1.2.0",
          "model_name": "LayoutModel",
          "state": {
            "_model_module": "@jupyter-widgets/base",
            "_model_module_version": "1.2.0",
            "_model_name": "LayoutModel",
            "_view_count": null,
            "_view_module": "@jupyter-widgets/base",
            "_view_module_version": "1.2.0",
            "_view_name": "LayoutView",
            "align_content": null,
            "align_items": null,
            "align_self": null,
            "border": null,
            "bottom": null,
            "display": null,
            "flex": null,
            "flex_flow": null,
            "grid_area": null,
            "grid_auto_columns": null,
            "grid_auto_flow": null,
            "grid_auto_rows": null,
            "grid_column": null,
            "grid_gap": null,
            "grid_row": null,
            "grid_template_areas": null,
            "grid_template_columns": null,
            "grid_template_rows": null,
            "height": null,
            "justify_content": null,
            "justify_items": null,
            "left": null,
            "margin": null,
            "max_height": null,
            "max_width": null,
            "min_height": null,
            "min_width": null,
            "object_fit": null,
            "object_position": null,
            "order": null,
            "overflow": null,
            "overflow_x": null,
            "overflow_y": null,
            "padding": null,
            "right": null,
            "top": null,
            "visibility": null,
            "width": null
          }
        },
        "2a5ec850b08e4b79a5103e613caeb35e": {
          "model_module": "@jupyter-widgets/base",
          "model_module_version": "1.2.0",
          "model_name": "LayoutModel",
          "state": {
            "_model_module": "@jupyter-widgets/base",
            "_model_module_version": "1.2.0",
            "_model_name": "LayoutModel",
            "_view_count": null,
            "_view_module": "@jupyter-widgets/base",
            "_view_module_version": "1.2.0",
            "_view_name": "LayoutView",
            "align_content": null,
            "align_items": null,
            "align_self": null,
            "border": null,
            "bottom": null,
            "display": null,
            "flex": null,
            "flex_flow": null,
            "grid_area": null,
            "grid_auto_columns": null,
            "grid_auto_flow": null,
            "grid_auto_rows": null,
            "grid_column": null,
            "grid_gap": null,
            "grid_row": null,
            "grid_template_areas": null,
            "grid_template_columns": null,
            "grid_template_rows": null,
            "height": null,
            "justify_content": null,
            "justify_items": null,
            "left": null,
            "margin": null,
            "max_height": null,
            "max_width": null,
            "min_height": null,
            "min_width": null,
            "object_fit": null,
            "object_position": null,
            "order": null,
            "overflow": null,
            "overflow_x": null,
            "overflow_y": null,
            "padding": null,
            "right": null,
            "top": null,
            "visibility": null,
            "width": null
          }
        },
        "485d8e9d9d2a4d25840df963d1408abb": {
          "model_module": "@jupyter-widgets/base",
          "model_module_version": "1.2.0",
          "model_name": "LayoutModel",
          "state": {
            "_model_module": "@jupyter-widgets/base",
            "_model_module_version": "1.2.0",
            "_model_name": "LayoutModel",
            "_view_count": null,
            "_view_module": "@jupyter-widgets/base",
            "_view_module_version": "1.2.0",
            "_view_name": "LayoutView",
            "align_content": null,
            "align_items": null,
            "align_self": null,
            "border": null,
            "bottom": null,
            "display": null,
            "flex": null,
            "flex_flow": null,
            "grid_area": null,
            "grid_auto_columns": null,
            "grid_auto_flow": null,
            "grid_auto_rows": null,
            "grid_column": null,
            "grid_gap": null,
            "grid_row": null,
            "grid_template_areas": null,
            "grid_template_columns": null,
            "grid_template_rows": null,
            "height": null,
            "justify_content": null,
            "justify_items": null,
            "left": null,
            "margin": null,
            "max_height": null,
            "max_width": null,
            "min_height": null,
            "min_width": null,
            "object_fit": null,
            "object_position": null,
            "order": null,
            "overflow": null,
            "overflow_x": null,
            "overflow_y": null,
            "padding": null,
            "right": null,
            "top": null,
            "visibility": null,
            "width": null
          }
        },
        "6338d4c11ace489484b0b24f45a665b7": {
          "model_module": "@jupyter-widgets/controls",
          "model_module_version": "1.5.0",
          "model_name": "ProgressStyleModel",
          "state": {
            "_model_module": "@jupyter-widgets/controls",
            "_model_module_version": "1.5.0",
            "_model_name": "ProgressStyleModel",
            "_view_count": null,
            "_view_module": "@jupyter-widgets/base",
            "_view_module_version": "1.2.0",
            "_view_name": "StyleView",
            "bar_color": null,
            "description_width": ""
          }
        },
        "787d794b13dc44e98f992988efca9a67": {
          "model_module": "@jupyter-widgets/controls",
          "model_module_version": "1.5.0",
          "model_name": "HBoxModel",
          "state": {
            "_dom_classes": [],
            "_model_module": "@jupyter-widgets/controls",
            "_model_module_version": "1.5.0",
            "_model_name": "HBoxModel",
            "_view_count": null,
            "_view_module": "@jupyter-widgets/controls",
            "_view_module_version": "1.5.0",
            "_view_name": "HBoxView",
            "box_style": "",
            "children": [
              "IPY_MODEL_9e04d158c95c4d06a44ea878a78c4c2b",
              "IPY_MODEL_10f5413cc3ed4f1796a1a143e36efbe3",
              "IPY_MODEL_d266fb3b91394b29b73eb292d021651e"
            ],
            "layout": "IPY_MODEL_230ce9e9186c435c9016b996065b350c"
          }
        },
        "9e04d158c95c4d06a44ea878a78c4c2b": {
          "model_module": "@jupyter-widgets/controls",
          "model_module_version": "1.5.0",
          "model_name": "HTMLModel",
          "state": {
            "_dom_classes": [],
            "_model_module": "@jupyter-widgets/controls",
            "_model_module_version": "1.5.0",
            "_model_name": "HTMLModel",
            "_view_count": null,
            "_view_module": "@jupyter-widgets/controls",
            "_view_module_version": "1.5.0",
            "_view_name": "HTMLView",
            "description": "",
            "description_tooltip": null,
            "layout": "IPY_MODEL_2a5ec850b08e4b79a5103e613caeb35e",
            "placeholder": "​",
            "style": "IPY_MODEL_e2fdf39bab624435aae83e0e621273d8",
            "value": "Downloading and saving files to disk: 100%"
          }
        },
        "b331e62f38724e92b5a1d43c6a81fb18": {
          "model_module": "@jupyter-widgets/base",
          "model_module_version": "1.2.0",
          "model_name": "LayoutModel",
          "state": {
            "_model_module": "@jupyter-widgets/base",
            "_model_module_version": "1.2.0",
            "_model_name": "LayoutModel",
            "_view_count": null,
            "_view_module": "@jupyter-widgets/base",
            "_view_module_version": "1.2.0",
            "_view_name": "LayoutView",
            "align_content": null,
            "align_items": null,
            "align_self": null,
            "border": null,
            "bottom": null,
            "display": null,
            "flex": null,
            "flex_flow": null,
            "grid_area": null,
            "grid_auto_columns": null,
            "grid_auto_flow": null,
            "grid_auto_rows": null,
            "grid_column": null,
            "grid_gap": null,
            "grid_row": null,
            "grid_template_areas": null,
            "grid_template_columns": null,
            "grid_template_rows": null,
            "height": null,
            "justify_content": null,
            "justify_items": null,
            "left": null,
            "margin": null,
            "max_height": null,
            "max_width": null,
            "min_height": null,
            "min_width": null,
            "object_fit": null,
            "object_position": null,
            "order": null,
            "overflow": null,
            "overflow_x": null,
            "overflow_y": null,
            "padding": null,
            "right": null,
            "top": null,
            "visibility": null,
            "width": null
          }
        },
        "bf3b79abccd3465dbb822890e9d5d57a": {
          "model_module": "@jupyter-widgets/controls",
          "model_module_version": "1.5.0",
          "model_name": "DescriptionStyleModel",
          "state": {
            "_model_module": "@jupyter-widgets/controls",
            "_model_module_version": "1.5.0",
            "_model_name": "DescriptionStyleModel",
            "_view_count": null,
            "_view_module": "@jupyter-widgets/base",
            "_view_module_version": "1.2.0",
            "_view_name": "StyleView",
            "description_width": ""
          }
        },
        "d266fb3b91394b29b73eb292d021651e": {
          "model_module": "@jupyter-widgets/controls",
          "model_module_version": "1.5.0",
          "model_name": "HTMLModel",
          "state": {
            "_dom_classes": [],
            "_model_module": "@jupyter-widgets/controls",
            "_model_module_version": "1.5.0",
            "_model_name": "HTMLModel",
            "_view_count": null,
            "_view_module": "@jupyter-widgets/controls",
            "_view_module_version": "1.5.0",
            "_view_name": "HTMLView",
            "description": "",
            "description_tooltip": null,
            "layout": "IPY_MODEL_485d8e9d9d2a4d25840df963d1408abb",
            "placeholder": "​",
            "style": "IPY_MODEL_bf3b79abccd3465dbb822890e9d5d57a",
            "value": " 60/60 [00:00&lt;00:00, 1127.20it/s]"
          }
        },
        "e2fdf39bab624435aae83e0e621273d8": {
          "model_module": "@jupyter-widgets/controls",
          "model_module_version": "1.5.0",
          "model_name": "DescriptionStyleModel",
          "state": {
            "_model_module": "@jupyter-widgets/controls",
            "_model_module_version": "1.5.0",
            "_model_name": "DescriptionStyleModel",
            "_view_count": null,
            "_view_module": "@jupyter-widgets/base",
            "_view_module_version": "1.2.0",
            "_view_name": "StyleView",
            "description_width": ""
          }
        }
      }
    }
  },
  "nbformat": 4,
  "nbformat_minor": 5
}
