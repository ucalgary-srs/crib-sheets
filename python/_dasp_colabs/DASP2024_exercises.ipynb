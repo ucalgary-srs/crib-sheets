{
  "cells": [
    {
      "cell_type": "markdown",
      "metadata": {
        "id": "UiFet0adoG4i"
      },
      "source": [
        "# **UCalgary ASI Exercises**\n",
        "\n",
        "First we're going to do the pip installs and imports for you so you can get rolling a bit quicker. Scroll down to see the individual exercise descriptions."
      ]
    },
    {
      "cell_type": "code",
      "execution_count": 4,
      "metadata": {
        "colab": {
          "base_uri": "https://localhost:8080/"
        },
        "id": "morVOHYvpWiz",
        "outputId": "6aa87deb-4224-4fa0-d629-4504cac446ad"
      },
      "outputs": [
        {
          "name": "stdout",
          "output_type": "stream",
          "text": [
            "Requirement already satisfied: themis-imager-readfile in /usr/local/lib/python3.10/dist-packages (1.4.1)\n",
            "Requirement already satisfied: rego-imager-readfile in /usr/local/lib/python3.10/dist-packages (1.3.1)\n",
            "Requirement already satisfied: trex-imager-readfile in /usr/local/lib/python3.10/dist-packages (1.6.6)\n",
            "Collecting aacgmv2\n",
            "  Downloading aacgmv2-2.6.3.tar.gz (1.6 MB)\n",
            "\u001b[2K     \u001b[90m━━━━━━━━━━━━━━━━━━━━━━━━━━━━━━━━━━━━━━━━\u001b[0m \u001b[32m1.6/1.6 MB\u001b[0m \u001b[31m8.6 MB/s\u001b[0m eta \u001b[36m0:00:00\u001b[0m\n",
            "\u001b[?25h  Installing build dependencies ... \u001b[?25l\u001b[?25hdone\n",
            "  Getting requirements to build wheel ... \u001b[?25l\u001b[?25hdone\n",
            "  Preparing metadata (pyproject.toml) ... \u001b[?25l\u001b[?25hdone\n",
            "Collecting cartopy\n",
            "  Downloading Cartopy-0.22.0-cp310-cp310-manylinux_2_17_x86_64.manylinux2014_x86_64.whl (11.8 MB)\n",
            "\u001b[2K     \u001b[90m━━━━━━━━━━━━━━━━━━━━━━━━━━━━━━━━━━━━━━━━\u001b[0m \u001b[32m11.8/11.8 MB\u001b[0m \u001b[31m69.7 MB/s\u001b[0m eta \u001b[36m0:00:00\u001b[0m\n",
            "\u001b[?25hRequirement already satisfied: pyproj in /usr/local/lib/python3.10/dist-packages (3.6.1)\n",
            "Requirement already satisfied: matplotlib in /usr/local/lib/python3.10/dist-packages (3.7.1)\n",
            "Requirement already satisfied: scipy in /usr/local/lib/python3.10/dist-packages (1.11.4)\n",
            "Requirement already satisfied: requests in /usr/local/lib/python3.10/dist-packages (2.31.0)\n",
            "Requirement already satisfied: joblib in /usr/local/lib/python3.10/dist-packages (1.3.2)\n",
            "Requirement already satisfied: tqdm in /usr/local/lib/python3.10/dist-packages (4.66.2)\n",
            "Requirement already satisfied: numpy<2.0.0,>=1.21.0 in /usr/local/lib/python3.10/dist-packages (from themis-imager-readfile) (1.25.2)\n",
            "Requirement already satisfied: h5py<4.0.0,>=3.1.0 in /usr/local/lib/python3.10/dist-packages (from trex-imager-readfile) (3.9.0)\n",
            "Requirement already satisfied: opencv-python<5.0.0,>=4.4.0 in /usr/local/lib/python3.10/dist-packages (from trex-imager-readfile) (4.8.0.76)\n",
            "Requirement already satisfied: shapely>=1.7 in /usr/local/lib/python3.10/dist-packages (from cartopy) (2.0.2)\n",
            "Requirement already satisfied: packaging>=20 in /usr/local/lib/python3.10/dist-packages (from cartopy) (23.2)\n",
            "Requirement already satisfied: pyshp>=2.1 in /usr/local/lib/python3.10/dist-packages (from cartopy) (2.3.1)\n",
            "Requirement already satisfied: certifi in /usr/local/lib/python3.10/dist-packages (from pyproj) (2024.2.2)\n",
            "Requirement already satisfied: contourpy>=1.0.1 in /usr/local/lib/python3.10/dist-packages (from matplotlib) (1.2.0)\n",
            "Requirement already satisfied: cycler>=0.10 in /usr/local/lib/python3.10/dist-packages (from matplotlib) (0.12.1)\n",
            "Requirement already satisfied: fonttools>=4.22.0 in /usr/local/lib/python3.10/dist-packages (from matplotlib) (4.48.1)\n",
            "Requirement already satisfied: kiwisolver>=1.0.1 in /usr/local/lib/python3.10/dist-packages (from matplotlib) (1.4.5)\n",
            "Requirement already satisfied: pillow>=6.2.0 in /usr/local/lib/python3.10/dist-packages (from matplotlib) (9.4.0)\n",
            "Requirement already satisfied: pyparsing>=2.3.1 in /usr/local/lib/python3.10/dist-packages (from matplotlib) (3.1.1)\n",
            "Requirement already satisfied: python-dateutil>=2.7 in /usr/local/lib/python3.10/dist-packages (from matplotlib) (2.8.2)\n",
            "Requirement already satisfied: charset-normalizer<4,>=2 in /usr/local/lib/python3.10/dist-packages (from requests) (3.3.2)\n",
            "Requirement already satisfied: idna<4,>=2.5 in /usr/local/lib/python3.10/dist-packages (from requests) (3.6)\n",
            "Requirement already satisfied: urllib3<3,>=1.21.1 in /usr/local/lib/python3.10/dist-packages (from requests) (2.0.7)\n",
            "Requirement already satisfied: six>=1.5 in /usr/local/lib/python3.10/dist-packages (from python-dateutil>=2.7->matplotlib) (1.16.0)\n",
            "Building wheels for collected packages: aacgmv2\n",
            "  Building wheel for aacgmv2 (pyproject.toml) ... \u001b[?25l\u001b[?25hdone\n",
            "  Created wheel for aacgmv2: filename=aacgmv2-2.6.3-cp310-cp310-linux_x86_64.whl size=1679869 sha256=6391e577112c713e66b041afdc753006be5d508de1cb3397373ff6574ca8f993\n",
            "  Stored in directory: /root/.cache/pip/wheels/e9/d6/3f/10a359ebb903b2dbe5aa94f7024b5284059bb0daef65a7a0b4\n",
            "Successfully built aacgmv2\n",
            "Installing collected packages: aacgmv2, cartopy\n",
            "Successfully installed aacgmv2-2.6.3 cartopy-0.22.0\n"
          ]
        }
      ],
      "source": [
        "!pip install themis-imager-readfile rego-imager-readfile trex-imager-readfile aacgmv2 cartopy pyproj matplotlib scipy requests joblib tqdm"
      ]
    },
    {
      "cell_type": "code",
      "execution_count": 5,
      "metadata": {
        "id": "ErE-KljXpZqV"
      },
      "outputs": [],
      "source": [
        "import os\n",
        "import pprint\n",
        "import glob\n",
        "import datetime as dt\n",
        "import themis_imager_readfile\n",
        "import rego_imager_readfile\n",
        "import trex_imager_readfile\n",
        "import aacgmv2\n",
        "import cv2\n",
        "import cartopy\n",
        "import pyproj\n",
        "import matplotlib\n",
        "import matplotlib.pyplot as plt\n",
        "import numpy as np\n",
        "import scipy\n",
        "import requests\n",
        "import joblib\n",
        "from tqdm.notebook import tqdm"
      ]
    },
    {
      "cell_type": "markdown",
      "metadata": {
        "id": "hDWQPvB9oUcD"
      },
      "source": [
        "## **Exercise 1: Growth rate of an instability  [Easy]**\n",
        "\n",
        "One of the first substorms with an onset captured by THEMIS ASI, and for which the satellites were aligned to track the evolution of the event near the equatorial plane, occurred on March 13, 2007, over The Pas, a bit after 05 UT. This event was explored in the Donovan et al. 2008 GRL (https://agupubs.onlinelibrary.wiley.com/doi/10.1029/2008GL033794).\n",
        "\n",
        "This paper highlighted the period of linear growth of brightness of the onset arc that we associate with the growth of the onset instability in the tail.\n",
        "\n",
        "Using only THEMIS-ASI data from The Pas, create a plot similar to the bottom panel of Figure 4 in Donovan's paper. The key point is to isolate the right geomagnetic latitude range and the right meridians (to do this well). However, one can actually just use the images without mapping, if one is careful, and use one meridian to do what we are suggesting, namely to estimate the growth rate (or growth time scale)."
      ]
    },
    {
      "cell_type": "code",
      "execution_count": 6,
      "metadata": {
        "id": "WH4CapmnoT1y"
      },
      "outputs": [],
      "source": [
        "# set the top-level output path we want to save the files to\n",
        "#\n",
        "# NOTE: This crib sheet assumes you're using Google Colab. Change as needed.\n",
        "download_root_path = \"/content/ucalgary_data\""
      ]
    },
    {
      "cell_type": "code",
      "execution_count": 7,
      "metadata": {
        "id": "uh8dOC4po_x5"
      },
      "outputs": [],
      "source": [
        "# These functions are helpers for downloading data, we won't go into any detail\n",
        "# here, but just use them later on. Learn more by checking out the 'Downloading data\n",
        "# from the API' crib sheet on data.phys.ucalgary.ca.\n",
        "\n",
        "def download_url(url, prefix, output_base_path, overwrite=False, pbar=None):\n",
        "    # set output filename\n",
        "    output_filename = \"%s/%s\" % (output_base_path, url.removeprefix(prefix))\n",
        "    if (overwrite is False and os.path.exists(output_filename)):\n",
        "        if (pbar is not None):\n",
        "            pbar.update()\n",
        "        return\n",
        "\n",
        "    # create destination directory\n",
        "    try:\n",
        "        os.makedirs(os.path.dirname(output_filename), exist_ok=True)\n",
        "    except Exception:\n",
        "        # NOTE: sometimes when making directories in parallel there are race conditions. We put\n",
        "        # in a catch here and carry on if there are ever issues.\n",
        "        pass\n",
        "\n",
        "    # retrieve file and save to disk\n",
        "    r = requests.get(url)\n",
        "    with open(output_filename, 'wb') as fp:\n",
        "        fp.write(r.content)\n",
        "\n",
        "    # advance progress bar\n",
        "    if (pbar is not None):\n",
        "        pbar.update()\n",
        "\n",
        "def download_urls(dataset, urls, output_base_path, n_parallel=5, overwrite=False):\n",
        "    prefix_to_strip = dataset[\"data_tree_url\"]\n",
        "    with tqdm(total=len(urls), desc=\"Downloading and saving files to disk\") as pbar:\n",
        "        joblib.Parallel(n_jobs=n_parallel, prefer=\"threads\")(\n",
        "            joblib.delayed(download_url)(\n",
        "                urls[i],\n",
        "                prefix_to_strip,\n",
        "                os.path.join(output_base_path, dataset[\"name\"]),\n",
        "                overwrite=overwrite,\n",
        "                pbar=pbar,\n",
        "            ) for i in range(0, len(urls))\n",
        "        )\n",
        "    print(\"\\nData saved to %s\" % (output_base_path))\n",
        "\n",
        "def get_data_urls(dataset_name, start, end, site_uid):\n",
        "    params = {\"name\": dataset_name, \"start\": start, \"end\": end, \"site_uid\": site_uid, \"include_total_bytes\": True}\n",
        "    r = requests.get(\"https://api.phys.ucalgary.ca/api/v1/data_distribution/urls\", params=params)\n",
        "    data = r.json()\n",
        "    return data\n",
        "\n",
        "def list_datasets(name=None):\n",
        "    if (name is not None):\n",
        "        params = {\"name\": name}\n",
        "        r = requests.get(\"https://api.phys.ucalgary.ca/api/v1/data_distribution/datasets\", params=params)\n",
        "    else:\n",
        "        r = requests.get(\"https://api.phys.ucalgary.ca/api/v1/data_distribution/datasets\")\n",
        "    datasets = r.json()\n",
        "    return datasets"
      ]
    },
    {
      "cell_type": "code",
      "execution_count": 9,
      "metadata": {
        "colab": {
          "base_uri": "https://localhost:8080/",
          "height": 84,
          "referenced_widgets": [
            "55b22399eeb04d31ac0f300dcbd05934",
            "1abc9a04928b4ed29b7e61f704998959",
            "9a84af0c908e4a7d8cd8a76cb04a9fc0",
            "78c8aaa707e34bceb6eb880e8381bb3d",
            "702e0ef6d2cd430094d80fb36acfbf7b",
            "9238c532bb85423db9aba247d304ab7f",
            "22d6e4f2306f42e19fe94f9d8e1ea56c",
            "5bd858838a47438d99c8970a7ac87243",
            "e792c01ec3244e4a9451b575d6c829f0",
            "b631d036bca943deb6343d45539b2f2e",
            "1bd46f0fa8424fc7a67ccc4acad105f8"
          ]
        },
        "id": "9-QSiSxipCh-",
        "outputId": "a25b63cc-4ed8-4053-a1dd-077f74a01698"
      },
      "outputs": [
        {
          "data": {
            "application/vnd.jupyter.widget-view+json": {
              "model_id": "55b22399eeb04d31ac0f300dcbd05934",
              "version_major": 2,
              "version_minor": 0
            },
            "text/plain": [
              "Downloading and saving files to disk:   0%|          | 0/120 [00:00<?, ?it/s]"
            ]
          },
          "metadata": {},
          "output_type": "display_data"
        },
        {
          "name": "stdout",
          "output_type": "stream",
          "text": [
            "\n",
            "Data saved to /content/ucalgary_data\n"
          ]
        }
      ],
      "source": [
        "# download a couple hours of data\n",
        "dataset_name = \"THEMIS_ASI_RAW\"\n",
        "start = \"2007-03-13T04:00\"\n",
        "end = \"2007-03-13T05:59\"\n",
        "site_uid = \"tpas\"\n",
        "dataset = list_datasets(name=dataset_name)[0]\n",
        "urls = get_data_urls(dataset_name, start, end, site_uid)[\"urls\"]\n",
        "download_urls(dataset, urls, download_root_path)"
      ]
    },
    {
      "cell_type": "markdown",
      "metadata": {
        "id": "5XDPqVk2qwyR"
      },
      "source": [
        "### **Start your work here**"
      ]
    },
    {
      "cell_type": "code",
      "execution_count": 10,
      "metadata": {
        "id": "sNYlU_43qvTF"
      },
      "outputs": [],
      "source": [
        "# put code here\n"
      ]
    },
    {
      "cell_type": "markdown",
      "metadata": {
        "id": "nMLqwlMrqzlf"
      },
      "source": [
        "---\n",
        "## **Exercise #2: Creating a 557.7nm mosaic from TREx-RGB [Easy]**\n",
        "\n",
        "The RGB data is broadband color, but recent work by Jun Liang has shown that using the Green channel of RGB, along with a calibration curve, you can estimate the absolute luminosity of 557.7nm.  This is useful for making maps of color ratios (557.7nm and 630.nm, related to electron energy flux).\n",
        "\n",
        "Using the information in Liang et al. 2023 (https://www.eppcgs.org/en/article/doi/10.26464/epp2023063) construct a calibrated 557.7nm mosaic for a single timeframe.\n",
        "\n",
        "Hint: in this case, you need to turn a multi-channel imager into a single channel imager. So the single channel mosaic crib sheet is relevant, but you need to load the RGB data and apply the procedure documented in the paper.\n"
      ]
    },
    {
      "cell_type": "code",
      "execution_count": 11,
      "metadata": {
        "id": "Wq8csqvYni1j"
      },
      "outputs": [],
      "source": [
        "# put code here\n"
      ]
    },
    {
      "cell_type": "markdown",
      "metadata": {
        "id": "RFqqFRLBrNNT"
      },
      "source": [
        "---\n",
        "## **Exercise #3: M-number of 'the beads'  [Easy]**\n",
        "\n",
        "The so-called \"auroral beads\" were first identified Eric Donovan's ICS-8 Proceedings paper: https://ics8.ca/proc_files/donovan.pdf. In Figure 5 of that paper, you can see a \"difference plot,\" where the color indicates the difference in brightness between the current and previous image. The data comes from Fort Yukon, and spans 101148 to 101254 UT on November 28, 2005.\n",
        "\n",
        "Make a difference plot, similar to that in Donovan's paper, highlighting the evolution of the beads. Assuming the elevation is linearly increasing with distance from the edge of the image (in pixel coordinates), and the aurora is at 110 km altitude, estimate the m-number of the instability.\n",
        "\n",
        "Note: you can use the API, or alternatively, you can go to our data tree and download the two relevant files directly.\n",
        "(https://data.phys.ucalgary.ca/sort_by_project/THEMIS/asi/stream0/2005/11/28/fykn_themis01/ut10/)"
      ]
    },
    {
      "cell_type": "code",
      "execution_count": 12,
      "metadata": {
        "id": "lPZsXM-3rMFW"
      },
      "outputs": [],
      "source": [
        "# put code here\n"
      ]
    },
    {
      "cell_type": "markdown",
      "metadata": {
        "id": "sRJVySVQrxRh"
      },
      "source": [
        "## **Exercise #4: Making a multi-imager keogram  [Challenging]**\n",
        "\n",
        "Keograms are extremely useful for understanding magnetic topology. For example, the polar cap boundary (or polar ward edge) of the redline aurora is often used to mark the open-closed field line boundary. Similarly, the equatorward edge of the auroral oval can be thought of as the inner boundary of plasma sheet scattering processes. When looking at the whole system, from polar cap to sub-auroral, you often need more than one imager.\n",
        "\n",
        "In this exercise, we challenge you to make a combined, continuous keogram from two REGO imagers separated in latitude (Gillam and Rankin Inlet). This will truly visualize the ionospheric projection of the plasma sheet.\n",
        "We have included a few good hours of data to do this with in the google drive.  Look for 2023-02-20 from REGO (and don't forget to double check using the data portal, data.phys.ucalgary.ca).\n",
        "\n",
        "Methodology:  You will want to work in geomagnetic latitude, create a latitude and time 2D array. Your array should span the latitude range of Rankin Inlet and Gillam REGO FoVs (in geomagnetic!).  Then carefully fill your grid with the appropriate values from the image data.\n",
        "\n",
        "Things to watch out for:  Scaling. You can do this in data numbers, or calibrated luminosity. If in data numbers, you will want to subtract the dark and possibly independently scale the imagers (due to their differing local light conditions).  Also watch out for how you choose which imager to use at what latitude."
      ]
    },
    {
      "cell_type": "code",
      "execution_count": 13,
      "metadata": {
        "id": "In0XbpD5r7pC"
      },
      "outputs": [],
      "source": [
        "# put code here"
      ]
    },
    {
      "cell_type": "code",
      "execution_count": null,
      "metadata": {
        "id": "LyhYPxSKr9UK"
      },
      "outputs": [],
      "source": []
    }
  ],
  "metadata": {
    "colab": {
      "provenance": [],
      "toc_visible": true
    },
    "kernelspec": {
      "display_name": "Python 3",
      "name": "python3"
    },
    "language_info": {
      "name": "python"
    },
    "widgets": {
      "application/vnd.jupyter.widget-state+json": {
        "1abc9a04928b4ed29b7e61f704998959": {
          "model_module": "@jupyter-widgets/controls",
          "model_module_version": "1.5.0",
          "model_name": "HTMLModel",
          "state": {
            "_dom_classes": [],
            "_model_module": "@jupyter-widgets/controls",
            "_model_module_version": "1.5.0",
            "_model_name": "HTMLModel",
            "_view_count": null,
            "_view_module": "@jupyter-widgets/controls",
            "_view_module_version": "1.5.0",
            "_view_name": "HTMLView",
            "description": "",
            "description_tooltip": null,
            "layout": "IPY_MODEL_9238c532bb85423db9aba247d304ab7f",
            "placeholder": "​",
            "style": "IPY_MODEL_22d6e4f2306f42e19fe94f9d8e1ea56c",
            "value": "Downloading and saving files to disk: 100%"
          }
        },
        "1bd46f0fa8424fc7a67ccc4acad105f8": {
          "model_module": "@jupyter-widgets/controls",
          "model_module_version": "1.5.0",
          "model_name": "DescriptionStyleModel",
          "state": {
            "_model_module": "@jupyter-widgets/controls",
            "_model_module_version": "1.5.0",
            "_model_name": "DescriptionStyleModel",
            "_view_count": null,
            "_view_module": "@jupyter-widgets/base",
            "_view_module_version": "1.2.0",
            "_view_name": "StyleView",
            "description_width": ""
          }
        },
        "22d6e4f2306f42e19fe94f9d8e1ea56c": {
          "model_module": "@jupyter-widgets/controls",
          "model_module_version": "1.5.0",
          "model_name": "DescriptionStyleModel",
          "state": {
            "_model_module": "@jupyter-widgets/controls",
            "_model_module_version": "1.5.0",
            "_model_name": "DescriptionStyleModel",
            "_view_count": null,
            "_view_module": "@jupyter-widgets/base",
            "_view_module_version": "1.2.0",
            "_view_name": "StyleView",
            "description_width": ""
          }
        },
        "55b22399eeb04d31ac0f300dcbd05934": {
          "model_module": "@jupyter-widgets/controls",
          "model_module_version": "1.5.0",
          "model_name": "HBoxModel",
          "state": {
            "_dom_classes": [],
            "_model_module": "@jupyter-widgets/controls",
            "_model_module_version": "1.5.0",
            "_model_name": "HBoxModel",
            "_view_count": null,
            "_view_module": "@jupyter-widgets/controls",
            "_view_module_version": "1.5.0",
            "_view_name": "HBoxView",
            "box_style": "",
            "children": [
              "IPY_MODEL_1abc9a04928b4ed29b7e61f704998959",
              "IPY_MODEL_9a84af0c908e4a7d8cd8a76cb04a9fc0",
              "IPY_MODEL_78c8aaa707e34bceb6eb880e8381bb3d"
            ],
            "layout": "IPY_MODEL_702e0ef6d2cd430094d80fb36acfbf7b"
          }
        },
        "5bd858838a47438d99c8970a7ac87243": {
          "model_module": "@jupyter-widgets/base",
          "model_module_version": "1.2.0",
          "model_name": "LayoutModel",
          "state": {
            "_model_module": "@jupyter-widgets/base",
            "_model_module_version": "1.2.0",
            "_model_name": "LayoutModel",
            "_view_count": null,
            "_view_module": "@jupyter-widgets/base",
            "_view_module_version": "1.2.0",
            "_view_name": "LayoutView",
            "align_content": null,
            "align_items": null,
            "align_self": null,
            "border": null,
            "bottom": null,
            "display": null,
            "flex": null,
            "flex_flow": null,
            "grid_area": null,
            "grid_auto_columns": null,
            "grid_auto_flow": null,
            "grid_auto_rows": null,
            "grid_column": null,
            "grid_gap": null,
            "grid_row": null,
            "grid_template_areas": null,
            "grid_template_columns": null,
            "grid_template_rows": null,
            "height": null,
            "justify_content": null,
            "justify_items": null,
            "left": null,
            "margin": null,
            "max_height": null,
            "max_width": null,
            "min_height": null,
            "min_width": null,
            "object_fit": null,
            "object_position": null,
            "order": null,
            "overflow": null,
            "overflow_x": null,
            "overflow_y": null,
            "padding": null,
            "right": null,
            "top": null,
            "visibility": null,
            "width": null
          }
        },
        "702e0ef6d2cd430094d80fb36acfbf7b": {
          "model_module": "@jupyter-widgets/base",
          "model_module_version": "1.2.0",
          "model_name": "LayoutModel",
          "state": {
            "_model_module": "@jupyter-widgets/base",
            "_model_module_version": "1.2.0",
            "_model_name": "LayoutModel",
            "_view_count": null,
            "_view_module": "@jupyter-widgets/base",
            "_view_module_version": "1.2.0",
            "_view_name": "LayoutView",
            "align_content": null,
            "align_items": null,
            "align_self": null,
            "border": null,
            "bottom": null,
            "display": null,
            "flex": null,
            "flex_flow": null,
            "grid_area": null,
            "grid_auto_columns": null,
            "grid_auto_flow": null,
            "grid_auto_rows": null,
            "grid_column": null,
            "grid_gap": null,
            "grid_row": null,
            "grid_template_areas": null,
            "grid_template_columns": null,
            "grid_template_rows": null,
            "height": null,
            "justify_content": null,
            "justify_items": null,
            "left": null,
            "margin": null,
            "max_height": null,
            "max_width": null,
            "min_height": null,
            "min_width": null,
            "object_fit": null,
            "object_position": null,
            "order": null,
            "overflow": null,
            "overflow_x": null,
            "overflow_y": null,
            "padding": null,
            "right": null,
            "top": null,
            "visibility": null,
            "width": null
          }
        },
        "78c8aaa707e34bceb6eb880e8381bb3d": {
          "model_module": "@jupyter-widgets/controls",
          "model_module_version": "1.5.0",
          "model_name": "HTMLModel",
          "state": {
            "_dom_classes": [],
            "_model_module": "@jupyter-widgets/controls",
            "_model_module_version": "1.5.0",
            "_model_name": "HTMLModel",
            "_view_count": null,
            "_view_module": "@jupyter-widgets/controls",
            "_view_module_version": "1.5.0",
            "_view_name": "HTMLView",
            "description": "",
            "description_tooltip": null,
            "layout": "IPY_MODEL_b631d036bca943deb6343d45539b2f2e",
            "placeholder": "​",
            "style": "IPY_MODEL_1bd46f0fa8424fc7a67ccc4acad105f8",
            "value": " 120/120 [00:20&lt;00:00,  5.18it/s]"
          }
        },
        "9238c532bb85423db9aba247d304ab7f": {
          "model_module": "@jupyter-widgets/base",
          "model_module_version": "1.2.0",
          "model_name": "LayoutModel",
          "state": {
            "_model_module": "@jupyter-widgets/base",
            "_model_module_version": "1.2.0",
            "_model_name": "LayoutModel",
            "_view_count": null,
            "_view_module": "@jupyter-widgets/base",
            "_view_module_version": "1.2.0",
            "_view_name": "LayoutView",
            "align_content": null,
            "align_items": null,
            "align_self": null,
            "border": null,
            "bottom": null,
            "display": null,
            "flex": null,
            "flex_flow": null,
            "grid_area": null,
            "grid_auto_columns": null,
            "grid_auto_flow": null,
            "grid_auto_rows": null,
            "grid_column": null,
            "grid_gap": null,
            "grid_row": null,
            "grid_template_areas": null,
            "grid_template_columns": null,
            "grid_template_rows": null,
            "height": null,
            "justify_content": null,
            "justify_items": null,
            "left": null,
            "margin": null,
            "max_height": null,
            "max_width": null,
            "min_height": null,
            "min_width": null,
            "object_fit": null,
            "object_position": null,
            "order": null,
            "overflow": null,
            "overflow_x": null,
            "overflow_y": null,
            "padding": null,
            "right": null,
            "top": null,
            "visibility": null,
            "width": null
          }
        },
        "9a84af0c908e4a7d8cd8a76cb04a9fc0": {
          "model_module": "@jupyter-widgets/controls",
          "model_module_version": "1.5.0",
          "model_name": "FloatProgressModel",
          "state": {
            "_dom_classes": [],
            "_model_module": "@jupyter-widgets/controls",
            "_model_module_version": "1.5.0",
            "_model_name": "FloatProgressModel",
            "_view_count": null,
            "_view_module": "@jupyter-widgets/controls",
            "_view_module_version": "1.5.0",
            "_view_name": "ProgressView",
            "bar_style": "success",
            "description": "",
            "description_tooltip": null,
            "layout": "IPY_MODEL_5bd858838a47438d99c8970a7ac87243",
            "max": 120,
            "min": 0,
            "orientation": "horizontal",
            "style": "IPY_MODEL_e792c01ec3244e4a9451b575d6c829f0",
            "value": 120
          }
        },
        "b631d036bca943deb6343d45539b2f2e": {
          "model_module": "@jupyter-widgets/base",
          "model_module_version": "1.2.0",
          "model_name": "LayoutModel",
          "state": {
            "_model_module": "@jupyter-widgets/base",
            "_model_module_version": "1.2.0",
            "_model_name": "LayoutModel",
            "_view_count": null,
            "_view_module": "@jupyter-widgets/base",
            "_view_module_version": "1.2.0",
            "_view_name": "LayoutView",
            "align_content": null,
            "align_items": null,
            "align_self": null,
            "border": null,
            "bottom": null,
            "display": null,
            "flex": null,
            "flex_flow": null,
            "grid_area": null,
            "grid_auto_columns": null,
            "grid_auto_flow": null,
            "grid_auto_rows": null,
            "grid_column": null,
            "grid_gap": null,
            "grid_row": null,
            "grid_template_areas": null,
            "grid_template_columns": null,
            "grid_template_rows": null,
            "height": null,
            "justify_content": null,
            "justify_items": null,
            "left": null,
            "margin": null,
            "max_height": null,
            "max_width": null,
            "min_height": null,
            "min_width": null,
            "object_fit": null,
            "object_position": null,
            "order": null,
            "overflow": null,
            "overflow_x": null,
            "overflow_y": null,
            "padding": null,
            "right": null,
            "top": null,
            "visibility": null,
            "width": null
          }
        },
        "e792c01ec3244e4a9451b575d6c829f0": {
          "model_module": "@jupyter-widgets/controls",
          "model_module_version": "1.5.0",
          "model_name": "ProgressStyleModel",
          "state": {
            "_model_module": "@jupyter-widgets/controls",
            "_model_module_version": "1.5.0",
            "_model_name": "ProgressStyleModel",
            "_view_count": null,
            "_view_module": "@jupyter-widgets/base",
            "_view_module_version": "1.2.0",
            "_view_name": "StyleView",
            "bar_color": null,
            "description_width": ""
          }
        }
      }
    }
  },
  "nbformat": 4,
  "nbformat_minor": 0
}
